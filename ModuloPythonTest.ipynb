{
 "cells": [
  {
   "cell_type": "markdown",
   "id": "a5b5d948-c6f1-4f95-a659-ca59b25c11f1",
   "metadata": {},
   "source": [
    "PRIMA PARTE"
   ]
  },
  {
   "cell_type": "code",
   "execution_count": 1,
   "id": "2d93c298-790f-422d-a9ce-8a65487756c5",
   "metadata": {
    "tags": []
   },
   "outputs": [],
   "source": [
    "import pandas as pd\n",
    "file_path='C:\\\\Users\\\\Noemi\\\\Downloads\\\\owid-covid-data.csv'\n",
    "covid=pd.read_csv(file_path, low_memory=False)"
   ]
  },
  {
   "cell_type": "code",
   "execution_count": 2,
   "id": "1002e919-7682-44a5-88a7-53534fc77c96",
   "metadata": {
    "tags": []
   },
   "outputs": [
    {
     "name": "stdout",
     "output_type": "stream",
     "text": [
      "In totale abbiamo 376985 righe e 67 colonne\n",
      "\n",
      "Esistono 25257995 elementi\n"
     ]
    }
   ],
   "source": [
    "rows, columns = covid.shape\n",
    "print(f\"In totale abbiamo {rows} righe e {columns} colonne\")\n",
    "print(\"\")\n",
    "print(f\"Esistono {covid.size} elementi\")"
   ]
  },
  {
   "cell_type": "code",
   "execution_count": 3,
   "id": "a48230f4-4adf-40d4-ab35-856a87c990df",
   "metadata": {
    "tags": []
   },
   "outputs": [
    {
     "data": {
      "text/html": [
       "<div>\n",
       "<style scoped>\n",
       "    .dataframe tbody tr th:only-of-type {\n",
       "        vertical-align: middle;\n",
       "    }\n",
       "\n",
       "    .dataframe tbody tr th {\n",
       "        vertical-align: top;\n",
       "    }\n",
       "\n",
       "    .dataframe thead th {\n",
       "        text-align: right;\n",
       "    }\n",
       "</style>\n",
       "<table border=\"1\" class=\"dataframe\">\n",
       "  <thead>\n",
       "    <tr style=\"text-align: right;\">\n",
       "      <th></th>\n",
       "      <th>iso_code</th>\n",
       "      <th>continent</th>\n",
       "      <th>location</th>\n",
       "      <th>date</th>\n",
       "      <th>total_cases</th>\n",
       "      <th>new_cases</th>\n",
       "      <th>new_cases_smoothed</th>\n",
       "      <th>total_deaths</th>\n",
       "      <th>new_deaths</th>\n",
       "      <th>new_deaths_smoothed</th>\n",
       "      <th>...</th>\n",
       "      <th>male_smokers</th>\n",
       "      <th>handwashing_facilities</th>\n",
       "      <th>hospital_beds_per_thousand</th>\n",
       "      <th>life_expectancy</th>\n",
       "      <th>human_development_index</th>\n",
       "      <th>population</th>\n",
       "      <th>excess_mortality_cumulative_absolute</th>\n",
       "      <th>excess_mortality_cumulative</th>\n",
       "      <th>excess_mortality</th>\n",
       "      <th>excess_mortality_cumulative_per_million</th>\n",
       "    </tr>\n",
       "  </thead>\n",
       "  <tbody>\n",
       "    <tr>\n",
       "      <th>0</th>\n",
       "      <td>AFG</td>\n",
       "      <td>Asia</td>\n",
       "      <td>Afghanistan</td>\n",
       "      <td>2020-01-05</td>\n",
       "      <td>NaN</td>\n",
       "      <td>0.0</td>\n",
       "      <td>NaN</td>\n",
       "      <td>NaN</td>\n",
       "      <td>0.0</td>\n",
       "      <td>NaN</td>\n",
       "      <td>...</td>\n",
       "      <td>NaN</td>\n",
       "      <td>37.746</td>\n",
       "      <td>0.5</td>\n",
       "      <td>64.83</td>\n",
       "      <td>0.511</td>\n",
       "      <td>41128772.0</td>\n",
       "      <td>NaN</td>\n",
       "      <td>NaN</td>\n",
       "      <td>NaN</td>\n",
       "      <td>NaN</td>\n",
       "    </tr>\n",
       "    <tr>\n",
       "      <th>1</th>\n",
       "      <td>AFG</td>\n",
       "      <td>Asia</td>\n",
       "      <td>Afghanistan</td>\n",
       "      <td>2020-01-06</td>\n",
       "      <td>NaN</td>\n",
       "      <td>0.0</td>\n",
       "      <td>NaN</td>\n",
       "      <td>NaN</td>\n",
       "      <td>0.0</td>\n",
       "      <td>NaN</td>\n",
       "      <td>...</td>\n",
       "      <td>NaN</td>\n",
       "      <td>37.746</td>\n",
       "      <td>0.5</td>\n",
       "      <td>64.83</td>\n",
       "      <td>0.511</td>\n",
       "      <td>41128772.0</td>\n",
       "      <td>NaN</td>\n",
       "      <td>NaN</td>\n",
       "      <td>NaN</td>\n",
       "      <td>NaN</td>\n",
       "    </tr>\n",
       "    <tr>\n",
       "      <th>2</th>\n",
       "      <td>AFG</td>\n",
       "      <td>Asia</td>\n",
       "      <td>Afghanistan</td>\n",
       "      <td>2020-01-07</td>\n",
       "      <td>NaN</td>\n",
       "      <td>0.0</td>\n",
       "      <td>NaN</td>\n",
       "      <td>NaN</td>\n",
       "      <td>0.0</td>\n",
       "      <td>NaN</td>\n",
       "      <td>...</td>\n",
       "      <td>NaN</td>\n",
       "      <td>37.746</td>\n",
       "      <td>0.5</td>\n",
       "      <td>64.83</td>\n",
       "      <td>0.511</td>\n",
       "      <td>41128772.0</td>\n",
       "      <td>NaN</td>\n",
       "      <td>NaN</td>\n",
       "      <td>NaN</td>\n",
       "      <td>NaN</td>\n",
       "    </tr>\n",
       "    <tr>\n",
       "      <th>3</th>\n",
       "      <td>AFG</td>\n",
       "      <td>Asia</td>\n",
       "      <td>Afghanistan</td>\n",
       "      <td>2020-01-08</td>\n",
       "      <td>NaN</td>\n",
       "      <td>0.0</td>\n",
       "      <td>NaN</td>\n",
       "      <td>NaN</td>\n",
       "      <td>0.0</td>\n",
       "      <td>NaN</td>\n",
       "      <td>...</td>\n",
       "      <td>NaN</td>\n",
       "      <td>37.746</td>\n",
       "      <td>0.5</td>\n",
       "      <td>64.83</td>\n",
       "      <td>0.511</td>\n",
       "      <td>41128772.0</td>\n",
       "      <td>NaN</td>\n",
       "      <td>NaN</td>\n",
       "      <td>NaN</td>\n",
       "      <td>NaN</td>\n",
       "    </tr>\n",
       "    <tr>\n",
       "      <th>4</th>\n",
       "      <td>AFG</td>\n",
       "      <td>Asia</td>\n",
       "      <td>Afghanistan</td>\n",
       "      <td>2020-01-09</td>\n",
       "      <td>NaN</td>\n",
       "      <td>0.0</td>\n",
       "      <td>NaN</td>\n",
       "      <td>NaN</td>\n",
       "      <td>0.0</td>\n",
       "      <td>NaN</td>\n",
       "      <td>...</td>\n",
       "      <td>NaN</td>\n",
       "      <td>37.746</td>\n",
       "      <td>0.5</td>\n",
       "      <td>64.83</td>\n",
       "      <td>0.511</td>\n",
       "      <td>41128772.0</td>\n",
       "      <td>NaN</td>\n",
       "      <td>NaN</td>\n",
       "      <td>NaN</td>\n",
       "      <td>NaN</td>\n",
       "    </tr>\n",
       "  </tbody>\n",
       "</table>\n",
       "<p>5 rows × 67 columns</p>\n",
       "</div>"
      ],
      "text/plain": [
       "  iso_code continent     location        date  total_cases  new_cases  \\\n",
       "0      AFG      Asia  Afghanistan  2020-01-05          NaN        0.0   \n",
       "1      AFG      Asia  Afghanistan  2020-01-06          NaN        0.0   \n",
       "2      AFG      Asia  Afghanistan  2020-01-07          NaN        0.0   \n",
       "3      AFG      Asia  Afghanistan  2020-01-08          NaN        0.0   \n",
       "4      AFG      Asia  Afghanistan  2020-01-09          NaN        0.0   \n",
       "\n",
       "   new_cases_smoothed  total_deaths  new_deaths  new_deaths_smoothed  ...  \\\n",
       "0                 NaN           NaN         0.0                  NaN  ...   \n",
       "1                 NaN           NaN         0.0                  NaN  ...   \n",
       "2                 NaN           NaN         0.0                  NaN  ...   \n",
       "3                 NaN           NaN         0.0                  NaN  ...   \n",
       "4                 NaN           NaN         0.0                  NaN  ...   \n",
       "\n",
       "   male_smokers  handwashing_facilities  hospital_beds_per_thousand  \\\n",
       "0           NaN                  37.746                         0.5   \n",
       "1           NaN                  37.746                         0.5   \n",
       "2           NaN                  37.746                         0.5   \n",
       "3           NaN                  37.746                         0.5   \n",
       "4           NaN                  37.746                         0.5   \n",
       "\n",
       "   life_expectancy  human_development_index  population  \\\n",
       "0            64.83                    0.511  41128772.0   \n",
       "1            64.83                    0.511  41128772.0   \n",
       "2            64.83                    0.511  41128772.0   \n",
       "3            64.83                    0.511  41128772.0   \n",
       "4            64.83                    0.511  41128772.0   \n",
       "\n",
       "   excess_mortality_cumulative_absolute  excess_mortality_cumulative  \\\n",
       "0                                   NaN                          NaN   \n",
       "1                                   NaN                          NaN   \n",
       "2                                   NaN                          NaN   \n",
       "3                                   NaN                          NaN   \n",
       "4                                   NaN                          NaN   \n",
       "\n",
       "   excess_mortality  excess_mortality_cumulative_per_million  \n",
       "0               NaN                                      NaN  \n",
       "1               NaN                                      NaN  \n",
       "2               NaN                                      NaN  \n",
       "3               NaN                                      NaN  \n",
       "4               NaN                                      NaN  \n",
       "\n",
       "[5 rows x 67 columns]"
      ]
     },
     "execution_count": 3,
     "metadata": {},
     "output_type": "execute_result"
    }
   ],
   "source": [
    "covid.head()"
   ]
  },
  {
   "cell_type": "code",
   "execution_count": 4,
   "id": "8ed51205-8697-4105-960a-eb573b83ad80",
   "metadata": {
    "tags": []
   },
   "outputs": [
    {
     "data": {
      "text/plain": [
       "Index(['iso_code', 'continent', 'location', 'date', 'total_cases', 'new_cases',\n",
       "       'new_cases_smoothed', 'total_deaths', 'new_deaths',\n",
       "       'new_deaths_smoothed', 'total_cases_per_million',\n",
       "       'new_cases_per_million', 'new_cases_smoothed_per_million',\n",
       "       'total_deaths_per_million', 'new_deaths_per_million',\n",
       "       'new_deaths_smoothed_per_million', 'reproduction_rate', 'icu_patients',\n",
       "       'icu_patients_per_million', 'hosp_patients',\n",
       "       'hosp_patients_per_million', 'weekly_icu_admissions',\n",
       "       'weekly_icu_admissions_per_million', 'weekly_hosp_admissions',\n",
       "       'weekly_hosp_admissions_per_million', 'total_tests', 'new_tests',\n",
       "       'total_tests_per_thousand', 'new_tests_per_thousand',\n",
       "       'new_tests_smoothed', 'new_tests_smoothed_per_thousand',\n",
       "       'positive_rate', 'tests_per_case', 'tests_units', 'total_vaccinations',\n",
       "       'people_vaccinated', 'people_fully_vaccinated', 'total_boosters',\n",
       "       'new_vaccinations', 'new_vaccinations_smoothed',\n",
       "       'total_vaccinations_per_hundred', 'people_vaccinated_per_hundred',\n",
       "       'people_fully_vaccinated_per_hundred', 'total_boosters_per_hundred',\n",
       "       'new_vaccinations_smoothed_per_million',\n",
       "       'new_people_vaccinated_smoothed',\n",
       "       'new_people_vaccinated_smoothed_per_hundred', 'stringency_index',\n",
       "       'population_density', 'median_age', 'aged_65_older', 'aged_70_older',\n",
       "       'gdp_per_capita', 'extreme_poverty', 'cardiovasc_death_rate',\n",
       "       'diabetes_prevalence', 'female_smokers', 'male_smokers',\n",
       "       'handwashing_facilities', 'hospital_beds_per_thousand',\n",
       "       'life_expectancy', 'human_development_index', 'population',\n",
       "       'excess_mortality_cumulative_absolute', 'excess_mortality_cumulative',\n",
       "       'excess_mortality', 'excess_mortality_cumulative_per_million'],\n",
       "      dtype='object')"
      ]
     },
     "execution_count": 4,
     "metadata": {},
     "output_type": "execute_result"
    }
   ],
   "source": [
    "covid.columns"
   ]
  },
  {
   "cell_type": "code",
   "execution_count": 5,
   "id": "8dd349e1-141d-42ac-92c0-3456d280cccb",
   "metadata": {
    "tags": []
   },
   "outputs": [
    {
     "name": "stdout",
     "output_type": "stream",
     "text": [
      "<class 'pandas.core.frame.DataFrame'>\n",
      "RangeIndex: 376985 entries, 0 to 376984\n",
      "Data columns (total 67 columns):\n",
      " #   Column                                      Non-Null Count   Dtype  \n",
      "---  ------                                      --------------   -----  \n",
      " 0   iso_code                                    376985 non-null  object \n",
      " 1   continent                                   358926 non-null  object \n",
      " 2   location                                    376985 non-null  object \n",
      " 3   date                                        376985 non-null  object \n",
      " 4   total_cases                                 338085 non-null  float64\n",
      " 5   new_cases                                   366116 non-null  float64\n",
      " 6   new_cases_smoothed                          364886 non-null  float64\n",
      " 7   total_deaths                                316113 non-null  float64\n",
      " 8   new_deaths                                  366124 non-null  float64\n",
      " 9   new_deaths_smoothed                         364894 non-null  float64\n",
      " 10  total_cases_per_million                     338085 non-null  float64\n",
      " 11  new_cases_per_million                       366116 non-null  float64\n",
      " 12  new_cases_smoothed_per_million              364886 non-null  float64\n",
      " 13  total_deaths_per_million                    316113 non-null  float64\n",
      " 14  new_deaths_per_million                      366124 non-null  float64\n",
      " 15  new_deaths_smoothed_per_million             364894 non-null  float64\n",
      " 16  reproduction_rate                           184817 non-null  float64\n",
      " 17  icu_patients                                38423 non-null   float64\n",
      " 18  icu_patients_per_million                    38423 non-null   float64\n",
      " 19  hosp_patients                               39921 non-null   float64\n",
      " 20  hosp_patients_per_million                   39921 non-null   float64\n",
      " 21  weekly_icu_admissions                       10580 non-null   float64\n",
      " 22  weekly_icu_admissions_per_million           10580 non-null   float64\n",
      " 23  weekly_hosp_admissions                      23974 non-null   float64\n",
      " 24  weekly_hosp_admissions_per_million          23974 non-null   float64\n",
      " 25  total_tests                                 79387 non-null   float64\n",
      " 26  new_tests                                   75403 non-null   float64\n",
      " 27  total_tests_per_thousand                    79387 non-null   float64\n",
      " 28  new_tests_per_thousand                      75403 non-null   float64\n",
      " 29  new_tests_smoothed                          103965 non-null  float64\n",
      " 30  new_tests_smoothed_per_thousand             103965 non-null  float64\n",
      " 31  positive_rate                               95927 non-null   float64\n",
      " 32  tests_per_case                              94348 non-null   float64\n",
      " 33  tests_units                                 106788 non-null  object \n",
      " 34  total_vaccinations                          82666 non-null   float64\n",
      " 35  people_vaccinated                           78619 non-null   float64\n",
      " 36  people_fully_vaccinated                     75474 non-null   float64\n",
      " 37  total_boosters                              50763 non-null   float64\n",
      " 38  new_vaccinations                            68465 non-null   float64\n",
      " 39  new_vaccinations_smoothed                   189136 non-null  float64\n",
      " 40  total_vaccinations_per_hundred              82666 non-null   float64\n",
      " 41  people_vaccinated_per_hundred               78619 non-null   float64\n",
      " 42  people_fully_vaccinated_per_hundred         75474 non-null   float64\n",
      " 43  total_boosters_per_hundred                  50763 non-null   float64\n",
      " 44  new_vaccinations_smoothed_per_million       189136 non-null  float64\n",
      " 45  new_people_vaccinated_smoothed              186629 non-null  float64\n",
      " 46  new_people_vaccinated_smoothed_per_hundred  186629 non-null  float64\n",
      " 47  stringency_index                            197292 non-null  float64\n",
      " 48  population_density                          320338 non-null  float64\n",
      " 49  median_age                                  297815 non-null  float64\n",
      " 50  aged_65_older                               287514 non-null  float64\n",
      " 51  aged_70_older                               294831 non-null  float64\n",
      " 52  gdp_per_capita                              291990 non-null  float64\n",
      " 53  extreme_poverty                             188219 non-null  float64\n",
      " 54  cardiovasc_death_rate                       292561 non-null  float64\n",
      " 55  diabetes_prevalence                         307607 non-null  float64\n",
      " 56  female_smokers                              219597 non-null  float64\n",
      " 57  male_smokers                                216613 non-null  float64\n",
      " 58  handwashing_facilities                      143291 non-null  float64\n",
      " 59  hospital_beds_per_thousand                  258389 non-null  float64\n",
      " 60  life_expectancy                             347051 non-null  float64\n",
      " 61  human_development_index                     283731 non-null  float64\n",
      " 62  population                                  376985 non-null  float64\n",
      " 63  excess_mortality_cumulative_absolute        13042 non-null   float64\n",
      " 64  excess_mortality_cumulative                 13042 non-null   float64\n",
      " 65  excess_mortality                            13042 non-null   float64\n",
      " 66  excess_mortality_cumulative_per_million     13042 non-null   float64\n",
      "dtypes: float64(62), object(5)\n",
      "memory usage: 192.7+ MB\n"
     ]
    }
   ],
   "source": [
    "covid.info()"
   ]
  },
  {
   "cell_type": "code",
   "execution_count": 6,
   "id": "e3cb3d77-2f27-4e35-ac3e-4f1633f5d8f4",
   "metadata": {
    "tags": []
   },
   "outputs": [
    {
     "data": {
      "text/html": [
       "<div>\n",
       "<style scoped>\n",
       "    .dataframe tbody tr th:only-of-type {\n",
       "        vertical-align: middle;\n",
       "    }\n",
       "\n",
       "    .dataframe tbody tr th {\n",
       "        vertical-align: top;\n",
       "    }\n",
       "\n",
       "    .dataframe thead th {\n",
       "        text-align: right;\n",
       "    }\n",
       "</style>\n",
       "<table border=\"1\" class=\"dataframe\">\n",
       "  <thead>\n",
       "    <tr style=\"text-align: right;\">\n",
       "      <th></th>\n",
       "      <th>total_cases</th>\n",
       "      <th>new_cases</th>\n",
       "      <th>new_cases_smoothed</th>\n",
       "      <th>total_deaths</th>\n",
       "      <th>new_deaths</th>\n",
       "      <th>new_deaths_smoothed</th>\n",
       "      <th>total_cases_per_million</th>\n",
       "      <th>new_cases_per_million</th>\n",
       "      <th>new_cases_smoothed_per_million</th>\n",
       "      <th>total_deaths_per_million</th>\n",
       "      <th>...</th>\n",
       "      <th>male_smokers</th>\n",
       "      <th>handwashing_facilities</th>\n",
       "      <th>hospital_beds_per_thousand</th>\n",
       "      <th>life_expectancy</th>\n",
       "      <th>human_development_index</th>\n",
       "      <th>population</th>\n",
       "      <th>excess_mortality_cumulative_absolute</th>\n",
       "      <th>excess_mortality_cumulative</th>\n",
       "      <th>excess_mortality</th>\n",
       "      <th>excess_mortality_cumulative_per_million</th>\n",
       "    </tr>\n",
       "  </thead>\n",
       "  <tbody>\n",
       "    <tr>\n",
       "      <th>count</th>\n",
       "      <td>3.380850e+05</td>\n",
       "      <td>3.661160e+05</td>\n",
       "      <td>3.648860e+05</td>\n",
       "      <td>3.161130e+05</td>\n",
       "      <td>366124.000000</td>\n",
       "      <td>364894.000000</td>\n",
       "      <td>338085.000000</td>\n",
       "      <td>366116.000000</td>\n",
       "      <td>364886.000000</td>\n",
       "      <td>316113.000000</td>\n",
       "      <td>...</td>\n",
       "      <td>216613.00000</td>\n",
       "      <td>143291.000000</td>\n",
       "      <td>258389.000000</td>\n",
       "      <td>347051.000000</td>\n",
       "      <td>283731.000000</td>\n",
       "      <td>3.769850e+05</td>\n",
       "      <td>1.304200e+04</td>\n",
       "      <td>13042.000000</td>\n",
       "      <td>13042.000000</td>\n",
       "      <td>13042.000000</td>\n",
       "    </tr>\n",
       "    <tr>\n",
       "      <th>mean</th>\n",
       "      <td>7.202762e+06</td>\n",
       "      <td>8.965883e+03</td>\n",
       "      <td>8.995879e+03</td>\n",
       "      <td>8.890612e+04</td>\n",
       "      <td>79.760174</td>\n",
       "      <td>80.028251</td>\n",
       "      <td>109569.889332</td>\n",
       "      <td>136.209725</td>\n",
       "      <td>136.659859</td>\n",
       "      <td>906.060829</td>\n",
       "      <td>...</td>\n",
       "      <td>32.90967</td>\n",
       "      <td>50.790423</td>\n",
       "      <td>3.097614</td>\n",
       "      <td>73.714441</td>\n",
       "      <td>0.722603</td>\n",
       "      <td>1.292900e+08</td>\n",
       "      <td>5.402698e+04</td>\n",
       "      <td>9.730153</td>\n",
       "      <td>11.051997</td>\n",
       "      <td>1755.727964</td>\n",
       "    </tr>\n",
       "    <tr>\n",
       "      <th>std</th>\n",
       "      <td>4.314687e+07</td>\n",
       "      <td>2.430048e+05</td>\n",
       "      <td>9.162390e+04</td>\n",
       "      <td>4.522645e+05</td>\n",
       "      <td>1444.166144</td>\n",
       "      <td>541.716519</td>\n",
       "      <td>157821.149563</td>\n",
       "      <td>1565.436549</td>\n",
       "      <td>579.005036</td>\n",
       "      <td>1123.610999</td>\n",
       "      <td>...</td>\n",
       "      <td>13.57134</td>\n",
       "      <td>31.952222</td>\n",
       "      <td>2.548099</td>\n",
       "      <td>7.395024</td>\n",
       "      <td>0.149007</td>\n",
       "      <td>6.634894e+08</td>\n",
       "      <td>1.502039e+05</td>\n",
       "      <td>11.993939</td>\n",
       "      <td>24.603504</td>\n",
       "      <td>1981.136603</td>\n",
       "    </tr>\n",
       "    <tr>\n",
       "      <th>min</th>\n",
       "      <td>1.000000e+00</td>\n",
       "      <td>0.000000e+00</td>\n",
       "      <td>0.000000e+00</td>\n",
       "      <td>1.000000e+00</td>\n",
       "      <td>0.000000</td>\n",
       "      <td>0.000000</td>\n",
       "      <td>0.000000</td>\n",
       "      <td>0.000000</td>\n",
       "      <td>0.000000</td>\n",
       "      <td>0.000000</td>\n",
       "      <td>...</td>\n",
       "      <td>7.70000</td>\n",
       "      <td>1.188000</td>\n",
       "      <td>0.100000</td>\n",
       "      <td>53.280000</td>\n",
       "      <td>0.394000</td>\n",
       "      <td>4.700000e+01</td>\n",
       "      <td>-3.772610e+04</td>\n",
       "      <td>-44.230000</td>\n",
       "      <td>-95.920000</td>\n",
       "      <td>-2936.453100</td>\n",
       "    </tr>\n",
       "    <tr>\n",
       "      <th>25%</th>\n",
       "      <td>9.106000e+03</td>\n",
       "      <td>0.000000e+00</td>\n",
       "      <td>1.430000e-01</td>\n",
       "      <td>1.330000e+02</td>\n",
       "      <td>0.000000</td>\n",
       "      <td>0.000000</td>\n",
       "      <td>2861.381000</td>\n",
       "      <td>0.000000</td>\n",
       "      <td>0.004000</td>\n",
       "      <td>64.652000</td>\n",
       "      <td>...</td>\n",
       "      <td>22.60000</td>\n",
       "      <td>20.859000</td>\n",
       "      <td>1.300000</td>\n",
       "      <td>69.590000</td>\n",
       "      <td>0.602000</td>\n",
       "      <td>4.490020e+05</td>\n",
       "      <td>1.650250e+02</td>\n",
       "      <td>1.910000</td>\n",
       "      <td>-1.470000</td>\n",
       "      <td>107.907717</td>\n",
       "    </tr>\n",
       "    <tr>\n",
       "      <th>50%</th>\n",
       "      <td>7.676400e+04</td>\n",
       "      <td>0.000000e+00</td>\n",
       "      <td>1.957100e+01</td>\n",
       "      <td>1.369000e+03</td>\n",
       "      <td>0.000000</td>\n",
       "      <td>0.143000</td>\n",
       "      <td>31845.405000</td>\n",
       "      <td>0.000000</td>\n",
       "      <td>4.965000</td>\n",
       "      <td>402.205000</td>\n",
       "      <td>...</td>\n",
       "      <td>33.10000</td>\n",
       "      <td>49.839000</td>\n",
       "      <td>2.500000</td>\n",
       "      <td>75.050000</td>\n",
       "      <td>0.740000</td>\n",
       "      <td>5.882259e+06</td>\n",
       "      <td>6.662499e+03</td>\n",
       "      <td>8.120000</td>\n",
       "      <td>5.680000</td>\n",
       "      <td>1226.746550</td>\n",
       "    </tr>\n",
       "    <tr>\n",
       "      <th>75%</th>\n",
       "      <td>8.320440e+05</td>\n",
       "      <td>0.000000e+00</td>\n",
       "      <td>4.332860e+02</td>\n",
       "      <td>1.225000e+04</td>\n",
       "      <td>0.000000</td>\n",
       "      <td>4.286000</td>\n",
       "      <td>151421.861000</td>\n",
       "      <td>0.000000</td>\n",
       "      <td>72.599000</td>\n",
       "      <td>1445.078000</td>\n",
       "      <td>...</td>\n",
       "      <td>41.30000</td>\n",
       "      <td>82.502000</td>\n",
       "      <td>4.200000</td>\n",
       "      <td>79.460000</td>\n",
       "      <td>0.829000</td>\n",
       "      <td>2.830170e+07</td>\n",
       "      <td>3.869505e+04</td>\n",
       "      <td>15.060000</td>\n",
       "      <td>15.757500</td>\n",
       "      <td>2856.920400</td>\n",
       "    </tr>\n",
       "    <tr>\n",
       "      <th>max</th>\n",
       "      <td>7.744934e+08</td>\n",
       "      <td>4.423623e+07</td>\n",
       "      <td>6.319461e+06</td>\n",
       "      <td>7.026534e+06</td>\n",
       "      <td>103719.000000</td>\n",
       "      <td>14817.000000</td>\n",
       "      <td>763475.441000</td>\n",
       "      <td>240325.866000</td>\n",
       "      <td>34332.267000</td>\n",
       "      <td>6507.656000</td>\n",
       "      <td>...</td>\n",
       "      <td>78.10000</td>\n",
       "      <td>100.000000</td>\n",
       "      <td>13.800000</td>\n",
       "      <td>86.750000</td>\n",
       "      <td>0.957000</td>\n",
       "      <td>7.975105e+09</td>\n",
       "      <td>1.327828e+06</td>\n",
       "      <td>76.620000</td>\n",
       "      <td>377.700000</td>\n",
       "      <td>10293.515000</td>\n",
       "    </tr>\n",
       "  </tbody>\n",
       "</table>\n",
       "<p>8 rows × 62 columns</p>\n",
       "</div>"
      ],
      "text/plain": [
       "        total_cases     new_cases  new_cases_smoothed  total_deaths  \\\n",
       "count  3.380850e+05  3.661160e+05        3.648860e+05  3.161130e+05   \n",
       "mean   7.202762e+06  8.965883e+03        8.995879e+03  8.890612e+04   \n",
       "std    4.314687e+07  2.430048e+05        9.162390e+04  4.522645e+05   \n",
       "min    1.000000e+00  0.000000e+00        0.000000e+00  1.000000e+00   \n",
       "25%    9.106000e+03  0.000000e+00        1.430000e-01  1.330000e+02   \n",
       "50%    7.676400e+04  0.000000e+00        1.957100e+01  1.369000e+03   \n",
       "75%    8.320440e+05  0.000000e+00        4.332860e+02  1.225000e+04   \n",
       "max    7.744934e+08  4.423623e+07        6.319461e+06  7.026534e+06   \n",
       "\n",
       "          new_deaths  new_deaths_smoothed  total_cases_per_million  \\\n",
       "count  366124.000000        364894.000000            338085.000000   \n",
       "mean       79.760174            80.028251            109569.889332   \n",
       "std      1444.166144           541.716519            157821.149563   \n",
       "min         0.000000             0.000000                 0.000000   \n",
       "25%         0.000000             0.000000              2861.381000   \n",
       "50%         0.000000             0.143000             31845.405000   \n",
       "75%         0.000000             4.286000            151421.861000   \n",
       "max    103719.000000         14817.000000            763475.441000   \n",
       "\n",
       "       new_cases_per_million  new_cases_smoothed_per_million  \\\n",
       "count          366116.000000                   364886.000000   \n",
       "mean              136.209725                      136.659859   \n",
       "std              1565.436549                      579.005036   \n",
       "min                 0.000000                        0.000000   \n",
       "25%                 0.000000                        0.004000   \n",
       "50%                 0.000000                        4.965000   \n",
       "75%                 0.000000                       72.599000   \n",
       "max            240325.866000                    34332.267000   \n",
       "\n",
       "       total_deaths_per_million  ...  male_smokers  handwashing_facilities  \\\n",
       "count             316113.000000  ...  216613.00000           143291.000000   \n",
       "mean                 906.060829  ...      32.90967               50.790423   \n",
       "std                 1123.610999  ...      13.57134               31.952222   \n",
       "min                    0.000000  ...       7.70000                1.188000   \n",
       "25%                   64.652000  ...      22.60000               20.859000   \n",
       "50%                  402.205000  ...      33.10000               49.839000   \n",
       "75%                 1445.078000  ...      41.30000               82.502000   \n",
       "max                 6507.656000  ...      78.10000              100.000000   \n",
       "\n",
       "       hospital_beds_per_thousand  life_expectancy  human_development_index  \\\n",
       "count               258389.000000    347051.000000            283731.000000   \n",
       "mean                     3.097614        73.714441                 0.722603   \n",
       "std                      2.548099         7.395024                 0.149007   \n",
       "min                      0.100000        53.280000                 0.394000   \n",
       "25%                      1.300000        69.590000                 0.602000   \n",
       "50%                      2.500000        75.050000                 0.740000   \n",
       "75%                      4.200000        79.460000                 0.829000   \n",
       "max                     13.800000        86.750000                 0.957000   \n",
       "\n",
       "         population  excess_mortality_cumulative_absolute  \\\n",
       "count  3.769850e+05                          1.304200e+04   \n",
       "mean   1.292900e+08                          5.402698e+04   \n",
       "std    6.634894e+08                          1.502039e+05   \n",
       "min    4.700000e+01                         -3.772610e+04   \n",
       "25%    4.490020e+05                          1.650250e+02   \n",
       "50%    5.882259e+06                          6.662499e+03   \n",
       "75%    2.830170e+07                          3.869505e+04   \n",
       "max    7.975105e+09                          1.327828e+06   \n",
       "\n",
       "       excess_mortality_cumulative  excess_mortality  \\\n",
       "count                 13042.000000      13042.000000   \n",
       "mean                      9.730153         11.051997   \n",
       "std                      11.993939         24.603504   \n",
       "min                     -44.230000        -95.920000   \n",
       "25%                       1.910000         -1.470000   \n",
       "50%                       8.120000          5.680000   \n",
       "75%                      15.060000         15.757500   \n",
       "max                      76.620000        377.700000   \n",
       "\n",
       "       excess_mortality_cumulative_per_million  \n",
       "count                             13042.000000  \n",
       "mean                               1755.727964  \n",
       "std                                1981.136603  \n",
       "min                               -2936.453100  \n",
       "25%                                 107.907717  \n",
       "50%                                1226.746550  \n",
       "75%                                2856.920400  \n",
       "max                               10293.515000  \n",
       "\n",
       "[8 rows x 62 columns]"
      ]
     },
     "execution_count": 6,
     "metadata": {},
     "output_type": "execute_result"
    }
   ],
   "source": [
    "covid.describe()"
   ]
  },
  {
   "cell_type": "markdown",
   "id": "f505ee3c-9b8b-4fd1-a9d1-0d0263b5de12",
   "metadata": {},
   "source": [
    "SECONDA PARTE"
   ]
  },
  {
   "cell_type": "markdown",
   "id": "b9358dee-9c7b-4225-8e32-6abc30dd42de",
   "metadata": {},
   "source": [
    "\"\"\"Questa seconda parte verrá svolta in due modi, sia con un ciclo di iterazione for, che con istruzioni di pandas, più semplici e veloci.\n",
    "Nel primo metodo ho preso in considerazione i dati della colonna total_cases, mentre nel secondo quelli della colonna new_cases\n",
    "Ho deciso di fare così perché i dati si discostano gli uni dagli altri. Questo sta a significare che il dataset preso in esame, qualitativamente parlando, non è  dei migliori.\n",
    "A mio parere i dati dei casi totali rispecchiano più verosimilmente quelli  da considerare come attendibili per l'accertamento del totale effettivo dei casi di covid registrati nel mondo. Inoltre è da precisare che, analizzando il dataset, si notano molti record inseriti in maniera incongruente((per esempio il continente viene inserito nella colonna delle nazioni), forse per errore o permancanza di informazioni esatte), ma si deduce anche che la differenza della situazione mondiale ha influito sulla compilazione del documento, infatti sono soprattutto i casi puù recenti ad essere stati registrati sotto la dicitura World."
   ]
  },
  {
   "cell_type": "code",
   "execution_count": 7,
   "id": "088158c7-4beb-4c8a-b1c0-980fe6c21c01",
   "metadata": {
    "tags": []
   },
   "outputs": [],
   "source": [
    "cov=covid.dropna(subset=['continent'])\n",
    "#cancello i dati da non prendere in "
   ]
  },
  {
   "cell_type": "code",
   "execution_count": 8,
   "id": "ba05ac96-3422-41f1-9f7c-487ab764a2db",
   "metadata": {
    "tags": []
   },
   "outputs": [
    {
     "data": {
      "text/plain": [
       "array(['Asia', 'Europe', 'Africa', 'Oceania', 'North America',\n",
       "       'South America'], dtype=object)"
      ]
     },
     "execution_count": 8,
     "metadata": {},
     "output_type": "execute_result"
    }
   ],
   "source": [
    "continents=cov.continent.unique()\n",
    "continents #controllo che mi abbia eliminato i nulli dalla colonna continenti"
   ]
  },
  {
   "cell_type": "markdown",
   "id": "8b515ad7-c5a6-493f-8e5d-ffe41b9fbc05",
   "metadata": {},
   "source": [
    "Prima modalità"
   ]
  },
  {
   "cell_type": "code",
   "execution_count": 9,
   "id": "3fe08738-de5b-418a-b2ff-a273477b4932",
   "metadata": {
    "tags": []
   },
   "outputs": [
    {
     "name": "stdout",
     "output_type": "stream",
     "text": [
      "i casi totali in Asia sono: 301,359,341.0\n",
      "i casi totali in Europa sono: 252,013,370.0\n",
      "i casi totali in Africa sono: 13,135,226.0\n",
      "i casi totali in Oceania sono: 14,741,706.0\n",
      "i casi totali in America del Nord sono: 124,525,971.0\n",
      "i casi totali in America del Sud sono: 68,751,186.0\n",
      "QUESTI SONO I DATI CALCOLATI SUL TOTALE PROGRESSIVO\n"
     ]
    }
   ],
   "source": [
    "import humanize as hz\n",
    "for continente in continents:\n",
    "    if continente=='Asia':\n",
    "        Asia_cov=cov.loc[cov.continent=='Asia']\n",
    "        tot_cases_loc_Asia=Asia_cov.groupby(\"location\")[\"total_cases\"].max()\n",
    "        total_cases_Asia= tot_cases_loc_Asia.sum()\n",
    "       \n",
    "    elif continente=='Europe':\n",
    "        Europe_cov=cov.loc[cov.continent=='Europe']\n",
    "        tot_cases_loc_Europe=Europe_cov.groupby(\"location\")[\"total_cases\"].max()\n",
    "        total_cases_Europe=tot_cases_loc_Europe.sum()\n",
    "        \n",
    "    elif continente=='Africa':\n",
    "        Africa_cov=cov.loc[cov.continent=='Africa']\n",
    "        tot_cases_loc_Africa=Africa_cov.groupby(\"location\")[\"total_cases\"].max()\n",
    "        total_cases_Africa=tot_cases_loc_Africa.sum()\n",
    "        \n",
    "    elif continente=='Oceania':\n",
    "        Oceania_cov=cov.loc[cov.continent=='Oceania']\n",
    "        tot_cases_loc_Oceania=Oceania_cov.groupby(\"location\")[\"total_cases\"].max()\n",
    "        total_cases_Oceania=tot_cases_loc_Oceania.sum()\n",
    "    elif continente=='North America':\n",
    "        North_America_cov=cov.loc[cov.continent=='North America']\n",
    "        tot_cases_loc_North_America=North_America_cov.groupby(\"location\")[\"total_cases\"].max()\n",
    "        total_cases_North_America=tot_cases_loc_North_America.sum()  \n",
    "    elif continente=='South America':\n",
    "        South_America_cov=cov.loc[cov.continent=='South America']\n",
    "        tot_cases_loc_South_America=South_America_cov.groupby(\"location\")[\"total_cases\"].max()\n",
    "        total_cases_South_America=tot_cases_loc_South_America.sum()\n",
    "print(\"i casi totali in Asia sono:\",hz.intcomma(total_cases_Asia))   \n",
    "print(\"i casi totali in Europa sono:\",hz.intcomma(total_cases_Europe))\n",
    "print(\"i casi totali in Africa sono:\",hz.intcomma(total_cases_Africa))\n",
    "print(\"i casi totali in Oceania sono:\",hz.intcomma(total_cases_Oceania))\n",
    "print(\"i casi totali in America del Nord sono:\",hz.intcomma(total_cases_North_America))\n",
    "print(\"i casi totali in America del Sud sono:\",hz.intcomma(total_cases_South_America))\n",
    "\n",
    "print(\"QUESTI SONO I DATI CALCOLATI SUL TOTALE PROGRESSIVO\")"
   ]
  },
  {
   "cell_type": "markdown",
   "id": "3fac42df-cba6-414e-bc4f-8953f7f28a41",
   "metadata": {},
   "source": [
    "Seconda modalità"
   ]
  },
  {
   "cell_type": "code",
   "execution_count": 10,
   "id": "5e952178-ab3d-4037-b1b7-83bdac26ecd0",
   "metadata": {
    "tags": []
   },
   "outputs": [
    {
     "name": "stdout",
     "output_type": "stream",
     "text": [
      "questi sono i totali distribuiti per  continent\n",
      "Africa            13136517.0\n",
      "Asia             301391174.0\n",
      "Europe           252013370.0\n",
      "North America    124526003.0\n",
      "Oceania           14741735.0\n",
      "South America     68752780.0\n",
      "Name: new_cases, dtype: float64\n",
      "QUESTI SONO I DATI CALCOLATI SULLA BASE DEI NUOVI CASI ACCERTATI\n"
     ]
    }
   ],
   "source": [
    "total_newcases_per_continent=cov.groupby('continent')['new_cases'].sum()\n",
    "print(\"questi sono i totali distribuiti per \",\n",
    "      total_newcases_per_continent)\n",
    "print(\"QUESTI SONO I DATI CALCOLATI SULLA BASE DEI NUOVI CASI ACCERTATI\")"
   ]
  },
  {
   "cell_type": "markdown",
   "id": "5d233c93-7904-4192-b5b6-d130038de213",
   "metadata": {},
   "source": [
    "TERZA PARTE"
   ]
  },
  {
   "cell_type": "markdown",
   "id": "9113096c-d167-4a76-97f7-2f1e46885a35",
   "metadata": {},
   "source": [
    "In questa terza parte, dato il divario tra i dati, ho deciso di definire due funzioni una per  i total_cases e una per  i new_cases, con l'intenzione di dare la possibilità ad un ipotetico utente di scegliere quali dati utilizzare.\n",
    "Allo stesso modo la funzione si basa sull'input dell'utente per calcolare i dati dell'analisi e non sulla mia scelta di due continenti a piacere."
   ]
  },
  {
   "cell_type": "markdown",
   "id": "64d48feb-1c7e-40da-ae24-454bc004d62a",
   "metadata": {},
   "source": [
    "Innanzitutto vado a vedere che tipo di formato è total_cases_per_continent perchè per calcolare la percentuale sul totale mondiale dovrò sommare i totali dei vari continenti e dei casi nan"
   ]
  },
  {
   "cell_type": "code",
   "execution_count": 11,
   "id": "e9ee01b6-ba25-499f-8518-2f52ee3b2b37",
   "metadata": {
    "tags": []
   },
   "outputs": [
    {
     "data": {
      "text/plain": [
       "pandas.core.series.Series"
      ]
     },
     "execution_count": 11,
     "metadata": {},
     "output_type": "execute_result"
    }
   ],
   "source": [
    "type(total_newcases_per_continent)"
   ]
  },
  {
   "cell_type": "code",
   "execution_count": 12,
   "id": "c854e6ee-acd7-43c6-9390-809ec68360c7",
   "metadata": {
    "tags": []
   },
   "outputs": [
    {
     "data": {
      "text/plain": [
       "774561579.0"
      ]
     },
     "execution_count": 12,
     "metadata": {},
     "output_type": "execute_result"
    }
   ],
   "source": [
    "\"\"\"essendo una serie deduco che contiene solo i valori ed è iterabile, calcolo il totale dei casi del mondo (senza i nan) con un ciclo di for. \n",
    "Qui ho preso in considerazione i nuovi casi accertati\"\"\"\n",
    "\n",
    "totworld_nonan=0\n",
    "for singletot in total_newcases_per_continent:\n",
    "    totworld_nonan+=singletot\n",
    "totworld_nonan   "
   ]
  },
  {
   "cell_type": "code",
   "execution_count": 13,
   "id": "c62bddc7-9c50-42ae-9054-517022756aff",
   "metadata": {
    "tags": []
   },
   "outputs": [
    {
     "data": {
      "text/plain": [
       "3282553220.0"
      ]
     },
     "execution_count": 13,
     "metadata": {},
     "output_type": "execute_result"
    }
   ],
   "source": [
    "#Adesso calcolo i casi totali nan e li sommo al precedente totale\n",
    "nan_covid=covid.loc[covid.continent.isnull()]\n",
    "tot_cases_nan=nan_covid.new_cases.sum()\n",
    "Total_new_cases_world=totworld_nonan+tot_cases_nan\n",
    "Total_new_cases_world"
   ]
  },
  {
   "cell_type": "markdown",
   "id": "ddb96950-43af-4526-9fd5-bc462d1f8c0b",
   "metadata": {},
   "source": [
    "Prima di definire la funzione, considerando che questo tipo di visualizzazione di output della funzione non è molto user-friendly, ho deciso di inserire nella funzione stessa delle istruzioni per visualizzare i dati sia con delle frasi, sia in una tabella. \n",
    "Per poter fare la tabella ho importato PrettyTable.\n",
    "Poi ho definito la funzione che  calcola il minimo, il massimo, la media e la percentuale sui nuovi casi prendendo i dati dei continenti inseriti dallo user al quale si chiede di volta in volta di inserire i due continenti che gli interessano.\n",
    "\n",
    "Anche in questo caso ho definito due funzioni diverse per i total cases e i new cases perché trovo interessante fare un confronto tra i diversi valori e comunque per permettere allo user di decidere egli stesso quali dati utilizzare "
   ]
  },
  {
   "cell_type": "code",
   "execution_count": 14,
   "id": "a716666c-228c-47ca-8963-c8121d786253",
   "metadata": {
    "tags": []
   },
   "outputs": [
    {
     "name": "stdout",
     "output_type": "stream",
     "text": [
      "Requirement already satisfied: prettytable in c:\\users\\noemi\\anaconda3\\lib\\site-packages (3.10.0)\n",
      "Requirement already satisfied: wcwidth in c:\\users\\noemi\\anaconda3\\lib\\site-packages (from prettytable) (0.2.5)\n",
      "Note: you may need to restart the kernel to use updated packages.\n"
     ]
    }
   ],
   "source": [
    "pip install prettytable"
   ]
  },
  {
   "cell_type": "code",
   "execution_count": 15,
   "id": "994e4631-0948-4c35-afe6-d9d744d9748a",
   "metadata": {
    "tags": []
   },
   "outputs": [],
   "source": [
    "from prettytable import PrettyTable \n",
    "tab1=PrettyTable()"
   ]
  },
  {
   "cell_type": "code",
   "execution_count": 16,
   "id": "b81e2dbb-e34c-46a7-9fc3-e84b1360571c",
   "metadata": {
    "tags": []
   },
   "outputs": [
    {
     "name": "stdin",
     "output_type": "stream",
     "text": [
      "scrivi di quale continente vuoi esaminare i dati: Asia\n",
      "scrivi il continente con cui vuoi confrontare i dati precedenti: Europe\n"
     ]
    },
    {
     "name": "stdout",
     "output_type": "stream",
     "text": [
      "i dati richiesti per il continente Asia sono:  min= 0.0 max= 40,475,477.0 media= 4,298.158525976526 e la percentuale sul totale di casi mondiale è del 9.181608150743099 %.\n",
      "i dati richiesti per il continente Europe sono:  min= 0.0 max= 2,417,043.0 media= 3,339.960373207517 e la percentuale sul totale dei casi mondiali è del 7.677358236403552 %.\n",
      "QUESTI SONO I DATI CALCOLATI SULLA BASE DEI NUOVI CASI ACCERTATI\n",
      "+-----------+--------------+--------------+--------------------+-------------------+\n",
      "| Continent | min_newcases | max_newcases |   mean_newcases    |  %_on_worldcases  |\n",
      "+-----------+--------------+--------------+--------------------+-------------------+\n",
      "|    Asia   |     0.0      | 40,475,477.0 | 4,298.158525976526 | 9.181608150743099 |\n",
      "|   Europe  |     0.0      | 2,417,043.0  | 3,339.960373207517 | 7.677358236403552 |\n",
      "+-----------+--------------+--------------+--------------------+-------------------+\n"
     ]
    }
   ],
   "source": [
    "\n",
    "\n",
    "import humanize as hz\n",
    "def analisi_sui_casi_nuovi(lista_continenti):\n",
    "    min1=0\n",
    "    min2=0\n",
    "    max1=0\n",
    "    max2=0\n",
    "    media1=0\n",
    "    media2=0\n",
    "    perc1=0\n",
    "    perc2=0\n",
    "  \n",
    "\n",
    "    filtro1=covid.continent==continente1\n",
    "    filtro2=covid.continent==continente2\n",
    "    sel1=covid.loc[filtro1]\n",
    "    sel2=covid.loc[filtro2]\n",
    "    min1=sel1.new_cases.min()\n",
    "    min2=sel2.new_cases.min()\n",
    "    max1=sel1.new_cases.max()\n",
    "    max2=sel2.new_cases.max()\n",
    "    media1=sel1.new_cases.mean()\n",
    "    media2=sel2.new_cases.mean()\n",
    "    perc1=(sel1.new_cases.sum()/Total_new_cases_world)*100\n",
    "    perc2=(sel2.new_cases.sum()/Total_new_cases_world)*100\n",
    "   \n",
    "    print('i dati richiesti per il continente',continente1,'sono:  min=',hz.intcomma(min1),'max=',hz.intcomma(max1),'media=',hz.intcomma(media1),\n",
    "          'e la percentuale sul totale di casi mondiale è del',hz.intcomma(perc1),'%.') \n",
    "   \n",
    "    print('i dati richiesti per il continente',continente2,'sono:  min=',hz.intcomma(min2),'max=',hz.intcomma(max2),'media=',hz.intcomma(media2),\n",
    "          'e la percentuale sul totale dei casi mondiali è del',hz.intcomma(perc2),'%.') \n",
    "    \n",
    "    print(\"QUESTI SONO I DATI CALCOLATI SULLA BASE DEI NUOVI CASI ACCERTATI\")\n",
    "    \n",
    "    tab1.field_names=[\"Continent\",\"min_newcases\",\"max_newcases\",\"mean_newcases\",\"%_on_worldcases\"]\n",
    "    tab1.add_row([continente1,min1,hz.intcomma(max1),hz.intcomma(media1),hz.intcomma(perc1)])\n",
    "    tab1.add_row([continente2,min2,hz.intcomma(max2),hz.intcomma(media2),hz.intcomma(perc2)]) \n",
    "    print(tab1)\n",
    "    \n",
    "    tab1.clear()\n",
    "    \n",
    "    \n",
    "lista_continenti=[]\n",
    "continente1=input('scrivi di quale continente vuoi esaminare i dati:')\n",
    "continente2=input('scrivi il continente con cui vuoi confrontare i dati precedenti:')\n",
    "lista_continenti.append(continente1)\n",
    "lista_continenti.append(continente2)\n",
    "analisi_sui_casi_nuovi(lista_continenti)"
   ]
  },
  {
   "cell_type": "markdown",
   "id": "4e932640-5eff-47c4-910e-61474f897d5a",
   "metadata": {},
   "source": [
    "Ripeto il procedimento per i casi totali. dato che i totali dei vari continenti li avevo già calcolati separatamente, ora devo solo più calcolare i casi totali nan\n",
    "e aggiungerli tutti in una nuova variabile."
   ]
  },
  {
   "cell_type": "code",
   "execution_count": 17,
   "id": "a5a32dec-815b-4d6b-883b-039109bf38f4",
   "metadata": {
    "tags": []
   },
   "outputs": [
    {
     "data": {
      "text/plain": [
       "1549020192.0"
      ]
     },
     "execution_count": 17,
     "metadata": {},
     "output_type": "execute_result"
    }
   ],
   "source": [
    "nan_covid=covid.loc[covid.continent.isnull()]\n",
    "tot_totalcases_nan=nan_covid.total_cases.max()\n",
    "world_cases=total_cases_Asia+total_cases_Europe+total_cases_Africa+total_cases_Oceania+total_cases_North_America+total_cases_South_America+tot_totalcases_nan\n",
    "world_cases"
   ]
  },
  {
   "cell_type": "code",
   "execution_count": 18,
   "id": "0015fd79-037c-4141-b31d-035741b57c25",
   "metadata": {
    "tags": []
   },
   "outputs": [
    {
     "name": "stdin",
     "output_type": "stream",
     "text": [
      "scrivi di quale continente vuoi esaminare i dati: North America\n",
      "srivi il continente con cui vuoi confrontare i dati precedenti: South America\n"
     ]
    },
    {
     "name": "stdout",
     "output_type": "stream",
     "text": [
      "i dati richiesti per il continente North America sono:  min= 1.0 max= 103,436,829.0 media= 1,793,414.9158023081 e la percentuale sul totale di casi mondiale è del 6.67756492356944 %.\n",
      "i dati richiesti per il continente South America sono:  min= 1.0 max= 37,519,960.0 media= 3,056,576.174385965 e la percentuale sul totale dei casi mondiali è del 2.422173719475956 %.\n",
      "QUESTI SONO I DATI CALCOLATI SUL TOTALE PROGRESSIVO DEI CASI\n",
      "+---------------+--------------+---------------+----------------------+-------------------+\n",
      "|   Continent   | min_totcases |  max_totcases |    mean_totcases     |  %_on_worldcases  |\n",
      "+---------------+--------------+---------------+----------------------+-------------------+\n",
      "| North America |     1.0      | 103,436,829.0 | 1,793,414.9158023081 |  6.67756492356944 |\n",
      "| South America |     1.0      |  37,519,960.0 | 3,056,576.174385965  | 2.422173719475956 |\n",
      "+---------------+--------------+---------------+----------------------+-------------------+\n"
     ]
    }
   ],
   "source": [
    "def analisi_sui_casi_totali(lista_continenti):\n",
    "    min1=0\n",
    "    min2=0\n",
    "    max1=0\n",
    "    max2=0\n",
    "    media1=0\n",
    "    media2=0\n",
    "    perc1=0\n",
    "    perc2=0\n",
    "   \n",
    "    filtro1=covid.continent==continente1\n",
    "    filtro2=covid.continent==continente2\n",
    "    sel1=covid.loc[filtro1]\n",
    "    sel2=covid.loc[filtro2]\n",
    "    min1=sel1.total_cases.min()\n",
    "    min2=sel2.total_cases.min()\n",
    "    max1=sel1.total_cases.max()\n",
    "    max2=sel2.total_cases.max()\n",
    "    media1=sel1.total_cases.mean()\n",
    "    media2=sel2.total_cases.mean()\n",
    "    perc1=(sel1.total_cases.max()/world_cases)*100\n",
    "    perc2=(sel2.total_cases.max()/world_cases)*100\n",
    "   \n",
    "    print('i dati richiesti per il continente',continente1,'sono:  min=',hz.intcomma(min1),'max=',hz.intcomma(max1),'media=',hz.intcomma(media1),\n",
    "          'e la percentuale sul totale di casi mondiale è del',hz.intcomma(perc1),'%.') \n",
    "   \n",
    "    print('i dati richiesti per il continente',continente2,'sono:  min=', hz.intcomma(min2),'max=',hz.intcomma(max2),'media=',hz.intcomma(media2),\n",
    "          'e la percentuale sul totale dei casi mondiali è del', hz.intcomma(perc2),'%.') \n",
    "    \n",
    "    print(\"QUESTI SONO I DATI CALCOLATI SUL TOTALE PROGRESSIVO DEI CASI\")\n",
    "    \n",
    "    tab1.field_names=[\"Continent\",\"min_totcases\",\"max_totcases\",\"mean_totcases\",\"%_on_worldcases\"]\n",
    "    tab1.add_row([continente1,min1,hz.intcomma(max1),hz.intcomma(media1),hz.intcomma(perc1)])\n",
    "    tab1.add_row([continente2,min2,hz.intcomma(max2),hz.intcomma(media2),hz.intcomma(perc2)]) \n",
    "    print(tab1)\n",
    "    \n",
    "    tab1.clear()\n",
    "    \n",
    "lista_continenti=[]\n",
    "continente1=input('scrivi di quale continente vuoi esaminare i dati:')\n",
    "continente2=input('srivi il continente con cui vuoi confrontare i dati precedenti:')\n",
    "lista_continenti.append(continente1)\n",
    "lista_continenti.append(continente2)\n",
    "analisi_sui_casi_totali(lista_continenti)"
   ]
  },
  {
   "cell_type": "code",
   "execution_count": null,
   "id": "f7b21bed-dcb0-45af-ac60-3f9b445a75c1",
   "metadata": {},
   "outputs": [],
   "source": []
  },
  {
   "cell_type": "markdown",
   "id": "69c8099a-625c-4d05-a6a1-f895528768ec",
   "metadata": {},
   "source": [
    "QUARTA PARTE"
   ]
  },
  {
   "cell_type": "markdown",
   "id": "f4d18898-3837-42fe-a276-5565445b6d9b",
   "metadata": {},
   "source": [
    "Per questa parte ho lavorato come nella terza parte con l'unica differenza che non ho richiesto un input allo user, bensì ho estrapolato e visualizzato i dati tutti i continenti compresi quelli dei records non ascritti ad alcun continente o raccolti in modo errato/diverso.\n",
    "\n",
    "Anche in questo caso ho voluto riportare sia i dati delle vaccinazioni totali che quelle delle 'new_vaccinations'.\n"
   ]
  },
  {
   "cell_type": "code",
   "execution_count": 19,
   "id": "f8561606-f206-4445-882f-42980ad3e9bc",
   "metadata": {
    "tags": []
   },
   "outputs": [],
   "source": [
    "from prettytable import PrettyTable \n",
    "tab2=PrettyTable()\n",
    " "
   ]
  },
  {
   "cell_type": "code",
   "execution_count": 20,
   "id": "a4114761-32ee-4b0a-8fc2-8e40d57a2a15",
   "metadata": {
    "tags": []
   },
   "outputs": [],
   "source": [
    "lista_continenti=['Africa','Asia','Europe','North America','Oceania','South America']"
   ]
  },
  {
   "cell_type": "code",
   "execution_count": 21,
   "id": "c7fbccef-cf8f-413c-85d0-2c557f9c484d",
   "metadata": {
    "tags": []
   },
   "outputs": [
    {
     "data": {
      "text/plain": [
       "continent\n",
       "Africa           1.173671e+08\n",
       "Asia             7.550421e+09\n",
       "Europe           1.267551e+09\n",
       "North America    1.003617e+09\n",
       "Oceania          7.481582e+07\n",
       "South America    8.463748e+08\n",
       "Name: new_vaccinations, dtype: float64"
      ]
     },
     "execution_count": 21,
     "metadata": {},
     "output_type": "execute_result"
    }
   ],
   "source": [
    "new_vaccinations_per_continent=covid.groupby('continent')['new_vaccinations'].sum()\n",
    "new_vaccinations_per_continent"
   ]
  },
  {
   "cell_type": "code",
   "execution_count": 22,
   "id": "37bb123a-7485-47f7-a0de-c16e58fa765d",
   "metadata": {
    "tags": []
   },
   "outputs": [
    {
     "data": {
      "text/plain": [
       "41632025451.0"
      ]
     },
     "execution_count": 22,
     "metadata": {},
     "output_type": "execute_result"
    }
   ],
   "source": [
    "nan_covid=covid.loc[covid.continent.isnull()]\n",
    "nan_new_vaccinations=nan_covid.new_vaccinations.sum()\n",
    "nan_new_vaccinations"
   ]
  },
  {
   "cell_type": "code",
   "execution_count": 23,
   "id": "6ec75d04-f0f5-4348-936c-7c8d83a764be",
   "metadata": {
    "tags": []
   },
   "outputs": [],
   "source": [
    "new_vacc_Africa=new_vaccinations_per_continent.iloc[0]\n",
    "new_vacc_Asia=new_vaccinations_per_continent.iloc[1]\n",
    "new_vacc_Europe=new_vaccinations_per_continent.iloc[2]\n",
    "new_vacc_Nord_America=new_vaccinations_per_continent.iloc[3]\n",
    "new_vacc_Oceania=new_vaccinations_per_continent.iloc[4]\n",
    "new_vacc_Sud_America=new_vaccinations_per_continent.iloc[5]"
   ]
  },
  {
   "cell_type": "code",
   "execution_count": 24,
   "id": "d4287e9e-e23c-4894-a2e2-1b750dab863e",
   "metadata": {
    "tags": []
   },
   "outputs": [
    {
     "data": {
      "text/plain": [
       "52492171567.0"
      ]
     },
     "execution_count": 24,
     "metadata": {},
     "output_type": "execute_result"
    }
   ],
   "source": [
    "vaccination_world=new_vacc_Africa+new_vacc_Asia+new_vacc_Europe+new_vacc_Nord_America+new_vacc_Oceania+new_vacc_Sud_America+nan_new_vaccinations\n",
    "\n",
    "vaccination_world"
   ]
  },
  {
   "cell_type": "code",
   "execution_count": 25,
   "id": "ac0fb905-bf36-4657-a592-5d074e6ec506",
   "metadata": {
    "tags": []
   },
   "outputs": [
    {
     "name": "stdout",
     "output_type": "stream",
     "text": [
      "per il continente Africa sono state registrate un minimo di vaccinazioni pari a 0.0 un massimo pari a 1866822.0 la media è: 42203.190938511325 e la percentuale sulle vaccinazioni totali nel mondo è del 0.22358967155739579 %.\n",
      "per il continente Asia sono state registrate un minimo di vaccinazioni pari a 0.0 un massimo pari a 24741000.0 la media è: 484311.8084028223 e la percentuale sulle vaccinazioni totali nel mondo è del 14.383899289368868 %.\n",
      "per il continente Europe sono state registrate un minimo di vaccinazioni pari a 0.0 un massimo pari a 2389472.0 la media è: 55137.2684327287 e la percentuale sulle vaccinazioni totali nel mondo è del 2.4147422866324413 %.\n",
      "per il continente North America sono state registrate un minimo di vaccinazioni pari a 0.0 un massimo pari a 7246123.0 la media è: 161899.7748023875 e la percentuale sulle vaccinazioni totali nel mondo è del 1.9119359592868108 %.\n",
      "per il continente Oceania sono state registrate un minimo di vaccinazioni pari a 1.0 un massimo pari a 351226.0 la media è: 55957.982797307406 e la percentuale sulle vaccinazioni totali nel mondo è del 0.14252758224053758 %.\n",
      "per il continente South America sono state registrate un minimo di vaccinazioni pari a 1.0 un massimo pari a 3976605.0 la media è: 141700.11016239747 e la percentuale sulle vaccinazioni totali nel mondo è del 1.6123828234457844 %.\n",
      "sono state registrate 49673196.0 vaccinazioni di cui non si conosce il continente di appartenenza. La loro percentuale sulle vaccinazioni totali nel mondo è del 79.31092238746817 %.\n",
      "QUESTI SONO I DATI CALCOLATI SULLA BASE DELLE NUOVE VACCINAZIONI ACCERTATE\n",
      "+---------------+----------+--------------+---------------------+---------------------+\n",
      "|   Continent   | vacc_min |   vacc_max   |      vacc_mean      |   %_on_world_vacc   |\n",
      "+---------------+----------+--------------+---------------------+---------------------+\n",
      "|     Africa    |   0.0    | 1,866,822.0  | 42,203.190938511325 | 0.22358967155739579 |\n",
      "|      Asia     |   0.0    | 24,741,000.0 |  484,311.8084028223 |  14.383899289368868 |\n",
      "|     Europe    |   0.0    | 2,389,472.0  |  55,137.2684327287  |  2.4147422866324413 |\n",
      "| North America |   0.0    | 7,246,123.0  |  161,899.7748023875 |  1.9119359592868108 |\n",
      "|    Oceania    |   1.0    |  351,226.0   | 55,957.982797307406 | 0.14252758224053758 |\n",
      "| South America |   1.0    | 3,976,605.0  | 141,700.11016239747 |  1.6123828234457844 |\n",
      "| non pervenuto |   0.0    | 49,673,196.0 | 3,062,078.953442189 |  79.31092238746817  |\n",
      "+---------------+----------+--------------+---------------------+---------------------+\n"
     ]
    }
   ],
   "source": [
    "\n",
    "def vaccini(lista_continenti):\n",
    "    vacmin=0\n",
    "    vacmax=0\n",
    "    vacmedia=0\n",
    "    vacperc=0\n",
    "    totvac=0\n",
    "    lista_vac_new_perc=[]\n",
    "    tab2.field_names=[\"Continent\",\"vacc_min\",\"vacc_max\",\"vacc_mean\",\"%_on_world_vacc\"]\n",
    "    \n",
    "    for continente in lista_continenti:\n",
    "        filtro=covid.continent==continente\n",
    "        sel=covid.loc[filtro]\n",
    "        vacmin=sel.new_vaccinations.min()\n",
    "        vacmax=sel.new_vaccinations.max()    \n",
    "        vacmedia=sel.new_vaccinations.mean()\n",
    "        vacperc= sel.new_vaccinations.sum()/ vaccination_world*100\n",
    "        print(\"per il continente\",continente,\"sono state registrate un minimo di vaccinazioni pari a\",vacmin,\"un massimo pari a\",vacmax,\"la media è:\",vacmedia,\n",
    "              \"e la percentuale sulle vaccinazioni totali nel mondo è del\",vacperc,\"%.\")\n",
    "        lista_vac_new_perc.append(vacperc)\n",
    "        tab2.add_row([continente,hz.intcomma(vacmin),hz.intcomma(vacmax),hz.intcomma(vacmedia),hz.intcomma(vacperc)])\n",
    "    \n",
    "    else:\n",
    "        nan_covid=covid.loc[covid.continent.isnull()]\n",
    "        nan_min=nan_covid.new_vaccinations.min()\n",
    "        nan_max=nan_covid.new_vaccinations.max()\n",
    "        nan_media=nan_covid.new_vaccinations.mean()\n",
    "        nan_perc_new=nan_covid.new_vaccinations.sum()/ vaccination_world*100\n",
    "        print(\"sono state registrate\",nan_max,\"vaccinazioni di cui non si conosce il continente di appartenenza. La loro percentuale sulle vaccinazioni totali nel mondo è del\",nan_perc_new,\"%.\")\n",
    "        tab2.add_row(['non pervenuto',hz.intcomma(nan_min),hz.intcomma(nan_max),hz.intcomma(nan_media),hz.intcomma(nan_perc_new)])\n",
    "        print(\"QUESTI SONO I DATI CALCOLATI SULLA BASE DELLE NUOVE VACCINAZIONI ACCERTATE\")\n",
    "    print(tab2)\n",
    "tab2.clear()\n",
    "  \n",
    "\n",
    "\n",
    "\n",
    "lista_continenti=['Africa','Asia','Europe','North America','Oceania','South America']   \n",
    "vaccini(lista_continenti)\n"
   ]
  },
  {
   "cell_type": "code",
   "execution_count": 26,
   "id": "8a00d8a7-c40c-493d-b671-f858eb3b24cc",
   "metadata": {
    "tags": []
   },
   "outputs": [
    {
     "data": {
      "text/plain": [
       "continent\n",
       "Africa           1.330480e+08\n",
       "Asia             3.491077e+09\n",
       "Europe           1.922215e+08\n",
       "North America    6.767288e+08\n",
       "Oceania          6.930634e+07\n",
       "South America    4.864364e+08\n",
       "Name: total_vaccinations, dtype: float64"
      ]
     },
     "execution_count": 26,
     "metadata": {},
     "output_type": "execute_result"
    }
   ],
   "source": [
    "tot_vaccinations_per_continent=covid.groupby('continent')['total_vaccinations'].max()\n",
    "tot_vaccinations_per_continent"
   ]
  },
  {
   "cell_type": "code",
   "execution_count": 27,
   "id": "dff996cf-c8da-4b77-a066-e0a7e5ac3b74",
   "metadata": {
    "tags": []
   },
   "outputs": [
    {
     "data": {
      "text/plain": [
       "'13,570,324,505.0'"
      ]
     },
     "execution_count": 27,
     "metadata": {},
     "output_type": "execute_result"
    }
   ],
   "source": [
    "nan_covid=covid.loc[covid.continent.isnull()]\n",
    "nan_tot_vaccinations=nan_covid.total_vaccinations.max()\n",
    "hz.intcomma(nan_tot_vaccinations)"
   ]
  },
  {
   "cell_type": "code",
   "execution_count": 28,
   "id": "8e69919d-f985-42d9-a669-1e8886c26262",
   "metadata": {
    "tags": []
   },
   "outputs": [],
   "source": [
    "tot_vacc_Africa=tot_vaccinations_per_continent.iloc[0]\n",
    "tot_vacc_Asia=tot_vaccinations_per_continent.iloc[1]\n",
    "tot_vacc_Europe=tot_vaccinations_per_continent.iloc[2]\n",
    "tot_vacc_Nord_America=tot_vaccinations_per_continent.iloc[3]\n",
    "tot_vacc_Oceania=tot_vaccinations_per_continent.iloc[4]\n",
    "tot_vacc_Sud_America=tot_vaccinations_per_continent.iloc[5]"
   ]
  },
  {
   "cell_type": "code",
   "execution_count": 29,
   "id": "e195c188-671e-413f-969d-374b9a2d0370",
   "metadata": {
    "tags": []
   },
   "outputs": [
    {
     "data": {
      "text/plain": [
       "18619142557.0"
      ]
     },
     "execution_count": 29,
     "metadata": {},
     "output_type": "execute_result"
    }
   ],
   "source": [
    "tot_vaccination_world=tot_vacc_Africa+tot_vacc_Asia+tot_vacc_Europe+tot_vacc_Nord_America+tot_vacc_Oceania+tot_vacc_Sud_America+nan_tot_vaccinations\n",
    "tot_vaccination_world"
   ]
  },
  {
   "cell_type": "code",
   "execution_count": 30,
   "id": "d4936228-34c1-4dbf-aaef-6dcdfcbc6dcb",
   "metadata": {
    "tags": []
   },
   "outputs": [],
   "source": [
    "tab3=PrettyTable()"
   ]
  },
  {
   "cell_type": "code",
   "execution_count": 31,
   "id": "74a0e174-1154-41c5-ae0d-453bd885ff3e",
   "metadata": {
    "tags": []
   },
   "outputs": [
    {
     "name": "stdout",
     "output_type": "stream",
     "text": [
      "per il continente Africa è stato registrato un minimo di vaccinazioni pari a 0.0 un massimo pari a 133048021.0 la media è: 8012152.22106591 e la percentuale sulle vaccinazioni totali nel mondo è del 0.7145765203348725 %.\n",
      "per il continente Asia è stato registrato un minimo di vaccinazioni pari a 0.0 un massimo pari a 3491077000.0 la media è: 230728539.32374448 e la percentuale sulle vaccinazioni totali nel mondo è del 18.749934317934017 %.\n",
      "per il continente Europe è stato registrato un minimo di vaccinazioni pari a 0.0 un massimo pari a 192221468.0 la media è: 27275774.196870532 e la percentuale sulle vaccinazioni totali nel mondo è del 1.0323862520067175 %.\n",
      "per il continente North America è stato registrato un minimo di vaccinazioni pari a 0.0 un massimo pari a 676728782.0 la media è: 64720903.87429155 e la percentuale sulle vaccinazioni totali nel mondo è del 3.634586178865573 %.\n",
      "per il continente Oceania è stato registrato un minimo di vaccinazioni pari a 0.0 un massimo pari a 69306345.0 la media è: 12617372.973786408 e la percentuale sulle vaccinazioni totali nel mondo è del 0.37223166849831 %.\n",
      "per il continente South America è stato registrato un minimo di vaccinazioni pari a 0.0 un massimo pari a 486436436.0 la media è: 65958353.543699816 e la percentuale sulle vaccinazioni totali nel mondo è del 2.6125608873278687 %.\n",
      "sono state registrate 13570324505.0 vaccinazioni di cui non si conosce il continente di appartenenza. La loro percentuale sulle vaccinazioni totali nel mondo è del 72.88372417503264 %.\n",
      "QUESTI SONO I DATI CALCOLATI SUL TOTALE PROGRESSIVO DELLE VACCINAZIONI\n",
      "+---------------+----------+------------------+----------------------+--------------------+\n",
      "|   Continent   | vacc_min |     vacc_max     |      vacc_mean       |  %_on_world_vacc   |\n",
      "+---------------+----------+------------------+----------------------+--------------------+\n",
      "|     Africa    |   0.0    |  133,048,021.0   |  8,012,152.22106591  | 0.7145765203348725 |\n",
      "|      Asia     |   0.0    | 3,491,077,000.0  | 230,728,539.32374448 | 18.749934317934017 |\n",
      "|     Europe    |   0.0    |  192,221,468.0   | 27,275,774.196870532 | 1.0323862520067175 |\n",
      "| North America |   0.0    |  676,728,782.0   | 64,720,903.87429155  | 3.634586178865573  |\n",
      "|    Oceania    |   0.0    |   69,306,345.0   | 12,617,372.973786408 |  0.37223166849831  |\n",
      "| South America |   0.0    |  486,436,436.0   | 65,958,353.543699816 | 2.6125608873278687 |\n",
      "| non pervenuto |   0.0    | 13,570,324,505.0 | 2,532,524,541.491534 | 72.88372417503264  |\n",
      "+---------------+----------+------------------+----------------------+--------------------+\n"
     ]
    }
   ],
   "source": [
    "lista_vac_tot_perc=[]\n",
    "nan_perc_tot=nan_covid.total_vaccinations.max()/ tot_vaccination_world*100\n",
    "def vaccini_tot(lista_continenti):\n",
    "    vacmin=0\n",
    "    vacmax=0\n",
    "    vacmedia=0\n",
    "    vacperc=0\n",
    "    totvac=0\n",
    "    tab3.field_names=[\"Continent\",\"vacc_min\",\"vacc_max\",\"vacc_mean\",\"%_on_world_vacc\"]\n",
    " \n",
    "   \n",
    "    \n",
    "    for continente in lista_continenti:\n",
    "        filtro=covid.continent==continente\n",
    "        sel=covid.loc[filtro]\n",
    "        vacmin=sel.total_vaccinations.min()\n",
    "        vacmax=sel.total_vaccinations.max()    \n",
    "        vacmedia=sel.total_vaccinations.mean()\n",
    "        vacperc= sel.total_vaccinations.max()/ tot_vaccination_world*100\n",
    "        print(\"per il continente\",continente,\"è stato registrato un minimo di vaccinazioni pari a\",vacmin,\"un massimo pari a\",vacmax,\"la media è:\",vacmedia,\n",
    "              \"e la percentuale sulle vaccinazioni totali nel mondo è del\",vacperc,\"%.\")\n",
    "        lista_vac_tot_perc.append(vacperc)\n",
    "        tab3.add_row([continente,hz.intcomma(vacmin),hz.intcomma(vacmax),hz.intcomma(vacmedia),hz.intcomma(vacperc)])\n",
    "    \n",
    "    else:\n",
    "        nan_covid=covid.loc[covid.continent.isnull()]\n",
    "        nan_min=nan_covid.total_vaccinations.min()\n",
    "        nan_max=nan_covid.total_vaccinations.max()\n",
    "        nan_media=nan_covid.total_vaccinations.mean()\n",
    "        nan_perc_tot=nan_covid.total_vaccinations.max()/ tot_vaccination_world*100\n",
    "        print(\"sono state registrate\",nan_max,\"vaccinazioni di cui non si conosce il continente di appartenenza. La loro percentuale sulle vaccinazioni totali nel mondo è del\",nan_perc_tot,\"%.\")\n",
    "        tab3.add_row(['non pervenuto',hz.intcomma(nan_min),hz.intcomma(nan_max),hz.intcomma(nan_media),hz.intcomma(nan_perc_tot)])\n",
    "        print(\"QUESTI SONO I DATI CALCOLATI SUL TOTALE PROGRESSIVO DELLE VACCINAZIONI\")\n",
    "            \n",
    "    print(tab3)\n",
    "tab3.clear()\n",
    "  \n",
    "\n",
    "\n",
    "\n",
    "lista_continenti=['Africa','Asia','Europe','North America','Oceania','South America']   \n",
    "vaccini_tot(lista_continenti)\n"
   ]
  },
  {
   "cell_type": "code",
   "execution_count": 32,
   "id": "01e07d21-5b9b-491f-8a8c-76aa6a0a90bd",
   "metadata": {},
   "outputs": [],
   "source": [
    "covid_eu=covid.loc[covid[\"continent\"]==\"Europe\"]\n",
    "covid_af=covid.loc[covid[\"continent\"]==\"Africa\"]\n",
    "covid_na=covid.loc[covid[\"continent\"]==\"North America\"]\n",
    "covid_sa=covid.loc[covid[\"continent\"]==\"South America\"]\n",
    "covid_as=covid.loc[covid[\"continent\"]==\"Asia\"]\n",
    "covid_oc=covid.loc[covid[\"continent\"]==\"Oceania\"]"
   ]
  },
  {
   "cell_type": "code",
   "execution_count": 33,
   "id": "cbb1dfb5-4f6a-4ccb-8f50-fdf405a753ff",
   "metadata": {},
   "outputs": [
    {
     "name": "stderr",
     "output_type": "stream",
     "text": [
      "C:\\Users\\Noemi\\AppData\\Local\\Temp\\ipykernel_16380\\3537812581.py:1: SettingWithCopyWarning: \n",
      "A value is trying to be set on a copy of a slice from a DataFrame.\n",
      "Try using .loc[row_indexer,col_indexer] = value instead\n",
      "\n",
      "See the caveats in the documentation: https://pandas.pydata.org/pandas-docs/stable/user_guide/indexing.html#returning-a-view-versus-a-copy\n",
      "  covid_eu[\"date\"]=pd.to_datetime(covid_eu[\"date\"])\n",
      "C:\\Users\\Noemi\\AppData\\Local\\Temp\\ipykernel_16380\\3537812581.py:2: SettingWithCopyWarning: \n",
      "A value is trying to be set on a copy of a slice from a DataFrame.\n",
      "Try using .loc[row_indexer,col_indexer] = value instead\n",
      "\n",
      "See the caveats in the documentation: https://pandas.pydata.org/pandas-docs/stable/user_guide/indexing.html#returning-a-view-versus-a-copy\n",
      "  covid_eu[\"year\"]=covid_eu[\"date\"].dt.year\n",
      "C:\\Users\\Noemi\\AppData\\Local\\Temp\\ipykernel_16380\\3537812581.py:3: SettingWithCopyWarning: \n",
      "A value is trying to be set on a copy of a slice from a DataFrame.\n",
      "Try using .loc[row_indexer,col_indexer] = value instead\n",
      "\n",
      "See the caveats in the documentation: https://pandas.pydata.org/pandas-docs/stable/user_guide/indexing.html#returning-a-view-versus-a-copy\n",
      "  covid_as[\"date\"]=pd.to_datetime(covid_as[\"date\"])\n",
      "C:\\Users\\Noemi\\AppData\\Local\\Temp\\ipykernel_16380\\3537812581.py:4: SettingWithCopyWarning: \n",
      "A value is trying to be set on a copy of a slice from a DataFrame.\n",
      "Try using .loc[row_indexer,col_indexer] = value instead\n",
      "\n",
      "See the caveats in the documentation: https://pandas.pydata.org/pandas-docs/stable/user_guide/indexing.html#returning-a-view-versus-a-copy\n",
      "  covid_as[\"year\"]=covid_as[\"date\"].dt.year\n",
      "C:\\Users\\Noemi\\AppData\\Local\\Temp\\ipykernel_16380\\3537812581.py:5: SettingWithCopyWarning: \n",
      "A value is trying to be set on a copy of a slice from a DataFrame.\n",
      "Try using .loc[row_indexer,col_indexer] = value instead\n",
      "\n",
      "See the caveats in the documentation: https://pandas.pydata.org/pandas-docs/stable/user_guide/indexing.html#returning-a-view-versus-a-copy\n",
      "  covid_af[\"date\"]=pd.to_datetime(covid_af[\"date\"])\n",
      "C:\\Users\\Noemi\\AppData\\Local\\Temp\\ipykernel_16380\\3537812581.py:6: SettingWithCopyWarning: \n",
      "A value is trying to be set on a copy of a slice from a DataFrame.\n",
      "Try using .loc[row_indexer,col_indexer] = value instead\n",
      "\n",
      "See the caveats in the documentation: https://pandas.pydata.org/pandas-docs/stable/user_guide/indexing.html#returning-a-view-versus-a-copy\n",
      "  covid_af[\"year\"]=covid_af[\"date\"].dt.year\n",
      "C:\\Users\\Noemi\\AppData\\Local\\Temp\\ipykernel_16380\\3537812581.py:7: SettingWithCopyWarning: \n",
      "A value is trying to be set on a copy of a slice from a DataFrame.\n",
      "Try using .loc[row_indexer,col_indexer] = value instead\n",
      "\n",
      "See the caveats in the documentation: https://pandas.pydata.org/pandas-docs/stable/user_guide/indexing.html#returning-a-view-versus-a-copy\n",
      "  covid_oc[\"date\"]=pd.to_datetime(covid_oc[\"date\"])\n",
      "C:\\Users\\Noemi\\AppData\\Local\\Temp\\ipykernel_16380\\3537812581.py:8: SettingWithCopyWarning: \n",
      "A value is trying to be set on a copy of a slice from a DataFrame.\n",
      "Try using .loc[row_indexer,col_indexer] = value instead\n",
      "\n",
      "See the caveats in the documentation: https://pandas.pydata.org/pandas-docs/stable/user_guide/indexing.html#returning-a-view-versus-a-copy\n",
      "  covid_oc[\"year\"]=covid_oc[\"date\"].dt.year\n",
      "C:\\Users\\Noemi\\AppData\\Local\\Temp\\ipykernel_16380\\3537812581.py:9: SettingWithCopyWarning: \n",
      "A value is trying to be set on a copy of a slice from a DataFrame.\n",
      "Try using .loc[row_indexer,col_indexer] = value instead\n",
      "\n",
      "See the caveats in the documentation: https://pandas.pydata.org/pandas-docs/stable/user_guide/indexing.html#returning-a-view-versus-a-copy\n",
      "  covid_na[\"date\"]=pd.to_datetime(covid_na[\"date\"])\n",
      "C:\\Users\\Noemi\\AppData\\Local\\Temp\\ipykernel_16380\\3537812581.py:10: SettingWithCopyWarning: \n",
      "A value is trying to be set on a copy of a slice from a DataFrame.\n",
      "Try using .loc[row_indexer,col_indexer] = value instead\n",
      "\n",
      "See the caveats in the documentation: https://pandas.pydata.org/pandas-docs/stable/user_guide/indexing.html#returning-a-view-versus-a-copy\n",
      "  covid_na[\"year\"]=covid_na[\"date\"].dt.year\n",
      "C:\\Users\\Noemi\\AppData\\Local\\Temp\\ipykernel_16380\\3537812581.py:11: SettingWithCopyWarning: \n",
      "A value is trying to be set on a copy of a slice from a DataFrame.\n",
      "Try using .loc[row_indexer,col_indexer] = value instead\n",
      "\n",
      "See the caveats in the documentation: https://pandas.pydata.org/pandas-docs/stable/user_guide/indexing.html#returning-a-view-versus-a-copy\n",
      "  covid_sa[\"date\"]=pd.to_datetime(covid_sa[\"date\"])\n",
      "C:\\Users\\Noemi\\AppData\\Local\\Temp\\ipykernel_16380\\3537812581.py:12: SettingWithCopyWarning: \n",
      "A value is trying to be set on a copy of a slice from a DataFrame.\n",
      "Try using .loc[row_indexer,col_indexer] = value instead\n",
      "\n",
      "See the caveats in the documentation: https://pandas.pydata.org/pandas-docs/stable/user_guide/indexing.html#returning-a-view-versus-a-copy\n",
      "  covid_sa[\"year\"]=covid_sa[\"date\"].dt.year\n"
     ]
    }
   ],
   "source": [
    "covid_eu[\"date\"]=pd.to_datetime(covid_eu[\"date\"])\n",
    "covid_eu[\"year\"]=covid_eu[\"date\"].dt.year\n",
    "covid_as[\"date\"]=pd.to_datetime(covid_as[\"date\"])\n",
    "covid_as[\"year\"]=covid_as[\"date\"].dt.year\n",
    "covid_af[\"date\"]=pd.to_datetime(covid_af[\"date\"])\n",
    "covid_af[\"year\"]=covid_af[\"date\"].dt.year\n",
    "covid_oc[\"date\"]=pd.to_datetime(covid_oc[\"date\"])\n",
    "covid_oc[\"year\"]=covid_oc[\"date\"].dt.year\n",
    "covid_na[\"date\"]=pd.to_datetime(covid_na[\"date\"])\n",
    "covid_na[\"year\"]=covid_na[\"date\"].dt.year\n",
    "covid_sa[\"date\"]=pd.to_datetime(covid_sa[\"date\"])\n",
    "covid_sa[\"year\"]=covid_sa[\"date\"].dt.year"
   ]
  },
  {
   "cell_type": "code",
   "execution_count": 34,
   "id": "a49d50da-4de0-4019-b6d3-7f8ae0b02af2",
   "metadata": {
    "tags": []
   },
   "outputs": [
    {
     "data": {
      "text/html": [
       "<div>\n",
       "<style scoped>\n",
       "    .dataframe tbody tr th:only-of-type {\n",
       "        vertical-align: middle;\n",
       "    }\n",
       "\n",
       "    .dataframe tbody tr th {\n",
       "        vertical-align: top;\n",
       "    }\n",
       "\n",
       "    .dataframe thead th {\n",
       "        text-align: right;\n",
       "    }\n",
       "</style>\n",
       "<table border=\"1\" class=\"dataframe\">\n",
       "  <thead>\n",
       "    <tr style=\"text-align: right;\">\n",
       "      <th></th>\n",
       "      <th>iso_code</th>\n",
       "      <th>continent</th>\n",
       "      <th>location</th>\n",
       "      <th>date</th>\n",
       "      <th>total_cases</th>\n",
       "      <th>new_cases</th>\n",
       "      <th>new_cases_smoothed</th>\n",
       "      <th>total_deaths</th>\n",
       "      <th>new_deaths</th>\n",
       "      <th>new_deaths_smoothed</th>\n",
       "      <th>...</th>\n",
       "      <th>handwashing_facilities</th>\n",
       "      <th>hospital_beds_per_thousand</th>\n",
       "      <th>life_expectancy</th>\n",
       "      <th>human_development_index</th>\n",
       "      <th>population</th>\n",
       "      <th>excess_mortality_cumulative_absolute</th>\n",
       "      <th>excess_mortality_cumulative</th>\n",
       "      <th>excess_mortality</th>\n",
       "      <th>excess_mortality_cumulative_per_million</th>\n",
       "      <th>year</th>\n",
       "    </tr>\n",
       "  </thead>\n",
       "  <tbody>\n",
       "    <tr>\n",
       "      <th>0</th>\n",
       "      <td>AFG</td>\n",
       "      <td>Asia</td>\n",
       "      <td>Afghanistan</td>\n",
       "      <td>2020-01-05</td>\n",
       "      <td>NaN</td>\n",
       "      <td>0.0</td>\n",
       "      <td>NaN</td>\n",
       "      <td>NaN</td>\n",
       "      <td>0.0</td>\n",
       "      <td>NaN</td>\n",
       "      <td>...</td>\n",
       "      <td>37.746</td>\n",
       "      <td>0.5</td>\n",
       "      <td>64.83</td>\n",
       "      <td>0.511</td>\n",
       "      <td>41128772.0</td>\n",
       "      <td>NaN</td>\n",
       "      <td>NaN</td>\n",
       "      <td>NaN</td>\n",
       "      <td>NaN</td>\n",
       "      <td>2020</td>\n",
       "    </tr>\n",
       "    <tr>\n",
       "      <th>1</th>\n",
       "      <td>AFG</td>\n",
       "      <td>Asia</td>\n",
       "      <td>Afghanistan</td>\n",
       "      <td>2020-01-06</td>\n",
       "      <td>NaN</td>\n",
       "      <td>0.0</td>\n",
       "      <td>NaN</td>\n",
       "      <td>NaN</td>\n",
       "      <td>0.0</td>\n",
       "      <td>NaN</td>\n",
       "      <td>...</td>\n",
       "      <td>37.746</td>\n",
       "      <td>0.5</td>\n",
       "      <td>64.83</td>\n",
       "      <td>0.511</td>\n",
       "      <td>41128772.0</td>\n",
       "      <td>NaN</td>\n",
       "      <td>NaN</td>\n",
       "      <td>NaN</td>\n",
       "      <td>NaN</td>\n",
       "      <td>2020</td>\n",
       "    </tr>\n",
       "    <tr>\n",
       "      <th>2</th>\n",
       "      <td>AFG</td>\n",
       "      <td>Asia</td>\n",
       "      <td>Afghanistan</td>\n",
       "      <td>2020-01-07</td>\n",
       "      <td>NaN</td>\n",
       "      <td>0.0</td>\n",
       "      <td>NaN</td>\n",
       "      <td>NaN</td>\n",
       "      <td>0.0</td>\n",
       "      <td>NaN</td>\n",
       "      <td>...</td>\n",
       "      <td>37.746</td>\n",
       "      <td>0.5</td>\n",
       "      <td>64.83</td>\n",
       "      <td>0.511</td>\n",
       "      <td>41128772.0</td>\n",
       "      <td>NaN</td>\n",
       "      <td>NaN</td>\n",
       "      <td>NaN</td>\n",
       "      <td>NaN</td>\n",
       "      <td>2020</td>\n",
       "    </tr>\n",
       "    <tr>\n",
       "      <th>3</th>\n",
       "      <td>AFG</td>\n",
       "      <td>Asia</td>\n",
       "      <td>Afghanistan</td>\n",
       "      <td>2020-01-08</td>\n",
       "      <td>NaN</td>\n",
       "      <td>0.0</td>\n",
       "      <td>NaN</td>\n",
       "      <td>NaN</td>\n",
       "      <td>0.0</td>\n",
       "      <td>NaN</td>\n",
       "      <td>...</td>\n",
       "      <td>37.746</td>\n",
       "      <td>0.5</td>\n",
       "      <td>64.83</td>\n",
       "      <td>0.511</td>\n",
       "      <td>41128772.0</td>\n",
       "      <td>NaN</td>\n",
       "      <td>NaN</td>\n",
       "      <td>NaN</td>\n",
       "      <td>NaN</td>\n",
       "      <td>2020</td>\n",
       "    </tr>\n",
       "    <tr>\n",
       "      <th>4</th>\n",
       "      <td>AFG</td>\n",
       "      <td>Asia</td>\n",
       "      <td>Afghanistan</td>\n",
       "      <td>2020-01-09</td>\n",
       "      <td>NaN</td>\n",
       "      <td>0.0</td>\n",
       "      <td>NaN</td>\n",
       "      <td>NaN</td>\n",
       "      <td>0.0</td>\n",
       "      <td>NaN</td>\n",
       "      <td>...</td>\n",
       "      <td>37.746</td>\n",
       "      <td>0.5</td>\n",
       "      <td>64.83</td>\n",
       "      <td>0.511</td>\n",
       "      <td>41128772.0</td>\n",
       "      <td>NaN</td>\n",
       "      <td>NaN</td>\n",
       "      <td>NaN</td>\n",
       "      <td>NaN</td>\n",
       "      <td>2020</td>\n",
       "    </tr>\n",
       "    <tr>\n",
       "      <th>...</th>\n",
       "      <td>...</td>\n",
       "      <td>...</td>\n",
       "      <td>...</td>\n",
       "      <td>...</td>\n",
       "      <td>...</td>\n",
       "      <td>...</td>\n",
       "      <td>...</td>\n",
       "      <td>...</td>\n",
       "      <td>...</td>\n",
       "      <td>...</td>\n",
       "      <td>...</td>\n",
       "      <td>...</td>\n",
       "      <td>...</td>\n",
       "      <td>...</td>\n",
       "      <td>...</td>\n",
       "      <td>...</td>\n",
       "      <td>...</td>\n",
       "      <td>...</td>\n",
       "      <td>...</td>\n",
       "      <td>...</td>\n",
       "      <td>...</td>\n",
       "    </tr>\n",
       "    <tr>\n",
       "      <th>373996</th>\n",
       "      <td>YEM</td>\n",
       "      <td>Asia</td>\n",
       "      <td>Yemen</td>\n",
       "      <td>2024-01-31</td>\n",
       "      <td>11945.0</td>\n",
       "      <td>0.0</td>\n",
       "      <td>0.0</td>\n",
       "      <td>2159.0</td>\n",
       "      <td>0.0</td>\n",
       "      <td>0.0</td>\n",
       "      <td>...</td>\n",
       "      <td>49.542</td>\n",
       "      <td>0.7</td>\n",
       "      <td>66.12</td>\n",
       "      <td>0.470</td>\n",
       "      <td>33696612.0</td>\n",
       "      <td>NaN</td>\n",
       "      <td>NaN</td>\n",
       "      <td>NaN</td>\n",
       "      <td>NaN</td>\n",
       "      <td>2024</td>\n",
       "    </tr>\n",
       "    <tr>\n",
       "      <th>373997</th>\n",
       "      <td>YEM</td>\n",
       "      <td>Asia</td>\n",
       "      <td>Yemen</td>\n",
       "      <td>2024-02-01</td>\n",
       "      <td>11945.0</td>\n",
       "      <td>0.0</td>\n",
       "      <td>0.0</td>\n",
       "      <td>2159.0</td>\n",
       "      <td>0.0</td>\n",
       "      <td>0.0</td>\n",
       "      <td>...</td>\n",
       "      <td>49.542</td>\n",
       "      <td>0.7</td>\n",
       "      <td>66.12</td>\n",
       "      <td>0.470</td>\n",
       "      <td>33696612.0</td>\n",
       "      <td>NaN</td>\n",
       "      <td>NaN</td>\n",
       "      <td>NaN</td>\n",
       "      <td>NaN</td>\n",
       "      <td>2024</td>\n",
       "    </tr>\n",
       "    <tr>\n",
       "      <th>373998</th>\n",
       "      <td>YEM</td>\n",
       "      <td>Asia</td>\n",
       "      <td>Yemen</td>\n",
       "      <td>2024-02-02</td>\n",
       "      <td>11945.0</td>\n",
       "      <td>0.0</td>\n",
       "      <td>0.0</td>\n",
       "      <td>2159.0</td>\n",
       "      <td>0.0</td>\n",
       "      <td>0.0</td>\n",
       "      <td>...</td>\n",
       "      <td>49.542</td>\n",
       "      <td>0.7</td>\n",
       "      <td>66.12</td>\n",
       "      <td>0.470</td>\n",
       "      <td>33696612.0</td>\n",
       "      <td>NaN</td>\n",
       "      <td>NaN</td>\n",
       "      <td>NaN</td>\n",
       "      <td>NaN</td>\n",
       "      <td>2024</td>\n",
       "    </tr>\n",
       "    <tr>\n",
       "      <th>373999</th>\n",
       "      <td>YEM</td>\n",
       "      <td>Asia</td>\n",
       "      <td>Yemen</td>\n",
       "      <td>2024-02-03</td>\n",
       "      <td>11945.0</td>\n",
       "      <td>0.0</td>\n",
       "      <td>0.0</td>\n",
       "      <td>2159.0</td>\n",
       "      <td>0.0</td>\n",
       "      <td>0.0</td>\n",
       "      <td>...</td>\n",
       "      <td>49.542</td>\n",
       "      <td>0.7</td>\n",
       "      <td>66.12</td>\n",
       "      <td>0.470</td>\n",
       "      <td>33696612.0</td>\n",
       "      <td>NaN</td>\n",
       "      <td>NaN</td>\n",
       "      <td>NaN</td>\n",
       "      <td>NaN</td>\n",
       "      <td>2024</td>\n",
       "    </tr>\n",
       "    <tr>\n",
       "      <th>374000</th>\n",
       "      <td>YEM</td>\n",
       "      <td>Asia</td>\n",
       "      <td>Yemen</td>\n",
       "      <td>2024-02-04</td>\n",
       "      <td>11945.0</td>\n",
       "      <td>0.0</td>\n",
       "      <td>0.0</td>\n",
       "      <td>2159.0</td>\n",
       "      <td>0.0</td>\n",
       "      <td>0.0</td>\n",
       "      <td>...</td>\n",
       "      <td>49.542</td>\n",
       "      <td>0.7</td>\n",
       "      <td>66.12</td>\n",
       "      <td>0.470</td>\n",
       "      <td>33696612.0</td>\n",
       "      <td>NaN</td>\n",
       "      <td>NaN</td>\n",
       "      <td>NaN</td>\n",
       "      <td>NaN</td>\n",
       "      <td>2024</td>\n",
       "    </tr>\n",
       "  </tbody>\n",
       "</table>\n",
       "<p>74485 rows × 68 columns</p>\n",
       "</div>"
      ],
      "text/plain": [
       "       iso_code continent     location       date  total_cases  new_cases  \\\n",
       "0           AFG      Asia  Afghanistan 2020-01-05          NaN        0.0   \n",
       "1           AFG      Asia  Afghanistan 2020-01-06          NaN        0.0   \n",
       "2           AFG      Asia  Afghanistan 2020-01-07          NaN        0.0   \n",
       "3           AFG      Asia  Afghanistan 2020-01-08          NaN        0.0   \n",
       "4           AFG      Asia  Afghanistan 2020-01-09          NaN        0.0   \n",
       "...         ...       ...          ...        ...          ...        ...   \n",
       "373996      YEM      Asia        Yemen 2024-01-31      11945.0        0.0   \n",
       "373997      YEM      Asia        Yemen 2024-02-01      11945.0        0.0   \n",
       "373998      YEM      Asia        Yemen 2024-02-02      11945.0        0.0   \n",
       "373999      YEM      Asia        Yemen 2024-02-03      11945.0        0.0   \n",
       "374000      YEM      Asia        Yemen 2024-02-04      11945.0        0.0   \n",
       "\n",
       "        new_cases_smoothed  total_deaths  new_deaths  new_deaths_smoothed  \\\n",
       "0                      NaN           NaN         0.0                  NaN   \n",
       "1                      NaN           NaN         0.0                  NaN   \n",
       "2                      NaN           NaN         0.0                  NaN   \n",
       "3                      NaN           NaN         0.0                  NaN   \n",
       "4                      NaN           NaN         0.0                  NaN   \n",
       "...                    ...           ...         ...                  ...   \n",
       "373996                 0.0        2159.0         0.0                  0.0   \n",
       "373997                 0.0        2159.0         0.0                  0.0   \n",
       "373998                 0.0        2159.0         0.0                  0.0   \n",
       "373999                 0.0        2159.0         0.0                  0.0   \n",
       "374000                 0.0        2159.0         0.0                  0.0   \n",
       "\n",
       "        ...  handwashing_facilities  hospital_beds_per_thousand  \\\n",
       "0       ...                  37.746                         0.5   \n",
       "1       ...                  37.746                         0.5   \n",
       "2       ...                  37.746                         0.5   \n",
       "3       ...                  37.746                         0.5   \n",
       "4       ...                  37.746                         0.5   \n",
       "...     ...                     ...                         ...   \n",
       "373996  ...                  49.542                         0.7   \n",
       "373997  ...                  49.542                         0.7   \n",
       "373998  ...                  49.542                         0.7   \n",
       "373999  ...                  49.542                         0.7   \n",
       "374000  ...                  49.542                         0.7   \n",
       "\n",
       "        life_expectancy  human_development_index  population  \\\n",
       "0                 64.83                    0.511  41128772.0   \n",
       "1                 64.83                    0.511  41128772.0   \n",
       "2                 64.83                    0.511  41128772.0   \n",
       "3                 64.83                    0.511  41128772.0   \n",
       "4                 64.83                    0.511  41128772.0   \n",
       "...                 ...                      ...         ...   \n",
       "373996            66.12                    0.470  33696612.0   \n",
       "373997            66.12                    0.470  33696612.0   \n",
       "373998            66.12                    0.470  33696612.0   \n",
       "373999            66.12                    0.470  33696612.0   \n",
       "374000            66.12                    0.470  33696612.0   \n",
       "\n",
       "        excess_mortality_cumulative_absolute  excess_mortality_cumulative  \\\n",
       "0                                        NaN                          NaN   \n",
       "1                                        NaN                          NaN   \n",
       "2                                        NaN                          NaN   \n",
       "3                                        NaN                          NaN   \n",
       "4                                        NaN                          NaN   \n",
       "...                                      ...                          ...   \n",
       "373996                                   NaN                          NaN   \n",
       "373997                                   NaN                          NaN   \n",
       "373998                                   NaN                          NaN   \n",
       "373999                                   NaN                          NaN   \n",
       "374000                                   NaN                          NaN   \n",
       "\n",
       "        excess_mortality  excess_mortality_cumulative_per_million  year  \n",
       "0                    NaN                                      NaN  2020  \n",
       "1                    NaN                                      NaN  2020  \n",
       "2                    NaN                                      NaN  2020  \n",
       "3                    NaN                                      NaN  2020  \n",
       "4                    NaN                                      NaN  2020  \n",
       "...                  ...                                      ...   ...  \n",
       "373996               NaN                                      NaN  2024  \n",
       "373997               NaN                                      NaN  2024  \n",
       "373998               NaN                                      NaN  2024  \n",
       "373999               NaN                                      NaN  2024  \n",
       "374000               NaN                                      NaN  2024  \n",
       "\n",
       "[74485 rows x 68 columns]"
      ]
     },
     "execution_count": 34,
     "metadata": {},
     "output_type": "execute_result"
    }
   ],
   "source": [
    "covid_as"
   ]
  },
  {
   "cell_type": "code",
   "execution_count": 35,
   "id": "785fe081-82f0-44c5-8b69-e7fd73cd09f0",
   "metadata": {},
   "outputs": [],
   "source": [
    "import matplotlib.pyplot as plt\n",
    "import numpy as np"
   ]
  },
  {
   "cell_type": "markdown",
   "id": "333269a4-4033-40b4-80a6-eeddc252f5d8",
   "metadata": {},
   "source": [
    "Creo delle variabili che mipermettono di estrapolare i dati in modo dinamico dal Dataframe in modo da poterli rappresentare su dei grafici in ogni momento "
   ]
  },
  {
   "cell_type": "code",
   "execution_count": 36,
   "id": "46c77ae8-8c1a-4a66-86f3-c7f7b5af4965",
   "metadata": {
    "tags": []
   },
   "outputs": [],
   "source": [
    "data_tot_cases_anno_eu=pd.DataFrame(covid_eu.groupby(\"year\")[\"total_cases\"].max())\n",
    "data_tot_cases_anno_eu=data_tot_cases_anno_eu.reset_index()\n",
    "data_tot_cases_anno_as=pd.DataFrame(covid_as.groupby(\"year\")[\"total_cases\"].max())\n",
    "data_tot_cases_anno_as=data_tot_cases_anno_as.reset_index()\n",
    "data_tot_cases_anno_af=pd.DataFrame(covid_af.groupby(\"year\")[\"total_cases\"].max())\n",
    "data_tot_cases_anno_af=data_tot_cases_anno_af.reset_index()\n",
    "data_tot_cases_anno_oc=pd.DataFrame(covid_oc.groupby(\"year\")[\"total_cases\"].max())\n",
    "data_tot_cases_anno_oc=data_tot_cases_anno_oc.reset_index()\n",
    "data_tot_cases_anno_na=pd.DataFrame(covid_na.groupby(\"year\")[\"total_cases\"].max())\n",
    "data_tot_cases_anno_na=data_tot_cases_anno_na.reset_index()\n",
    "data_tot_cases_anno_sa=pd.DataFrame(covid_sa.groupby(\"year\")[\"total_cases\"].max())\n",
    "data_tot_cases_anno_sa=data_tot_cases_anno_sa.reset_index()"
   ]
  },
  {
   "cell_type": "code",
   "execution_count": 37,
   "id": "44fab95e-77a5-4a10-aedd-f516691ec7bc",
   "metadata": {},
   "outputs": [
    {
     "name": "stdout",
     "output_type": "stream",
     "text": [
      "['2020', '2021', '2022', '2023', '2024'] [3050248.0, 12574779.0, 37989547.0, 38997490.0, 38997490.0]\n"
     ]
    }
   ],
   "source": [
    "x=[\"2020\",\"2021\",\"2022\",\"2023\",\"2024\"]\n",
    "y=[data_tot_cases_anno_eu.total_cases[0],\n",
    "   data_tot_cases_anno_eu.total_cases[1],\n",
    "   data_tot_cases_anno_eu.total_cases[2],\n",
    "   data_tot_cases_anno_eu.total_cases[3],\n",
    "   data_tot_cases_anno_eu.total_cases[4]]\n",
    "print(x,y) "
   ]
  },
  {
   "cell_type": "code",
   "execution_count": 38,
   "id": "46e2eed9-55a4-4018-9ead-2a8f4f85e646",
   "metadata": {},
   "outputs": [
    {
     "name": "stdout",
     "output_type": "stream",
     "text": [
      "['2020', '2021', '2022', '2023', '2024'] [10187850.0, 34786802.0, 62445650.0, 99322727.0, 99329249.0]\n"
     ]
    }
   ],
   "source": [
    "x1=[\"2020\",\"2021\",\"2022\",\"2023\",\"2024\"]\n",
    "\n",
    "y1=[data_tot_cases_anno_as.total_cases[0],\n",
    "   data_tot_cases_anno_as.total_cases[1],\n",
    "   data_tot_cases_anno_as.total_cases[2],\n",
    "   data_tot_cases_anno_as.total_cases[3],\n",
    "   data_tot_cases_anno_as.total_cases[4]]\n",
    "print(x1,y1) "
   ]
  },
  {
   "cell_type": "code",
   "execution_count": 39,
   "id": "771d03a9-ea44-43dc-8b48-5352c0ebf63c",
   "metadata": {},
   "outputs": [
    {
     "name": "stdout",
     "output_type": "stream",
     "text": [
      "['2020', '2021', '2022', '2023', '2024'] [994911.0, 3407937.0, 4048232.0, 4072636.0, 4072636.0]\n"
     ]
    }
   ],
   "source": [
    "x2=[\"2020\",\"2021\",\"2022\",\"2023\",\"2024\"]\n",
    "y2=[data_tot_cases_anno_af.total_cases[0],\n",
    "   data_tot_cases_anno_af.total_cases[1],\n",
    "   data_tot_cases_anno_af.total_cases[2],\n",
    "   data_tot_cases_anno_af.total_cases[3],\n",
    "   data_tot_cases_anno_af.total_cases[4]]\n",
    "print(x2,y2) "
   ]
  },
  {
   "cell_type": "code",
   "execution_count": 40,
   "id": "524e3197-80a5-43d0-a9e2-19a8aefbf104",
   "metadata": {},
   "outputs": [
    {
     "name": "stdout",
     "output_type": "stream",
     "text": [
      "['2020', '2021', '2022', '2023', '2024'] [28296.0, 366607.0, 10694041.0, 11721535.0, 11769858.0]\n"
     ]
    }
   ],
   "source": [
    "x3=[\"2020\",\"2021\",\"2022\",\"2023\",\"2024\"]\n",
    "y3=[data_tot_cases_anno_oc.total_cases[0],\n",
    "   data_tot_cases_anno_oc.total_cases[1],\n",
    "   data_tot_cases_anno_oc.total_cases[2],\n",
    "   data_tot_cases_anno_oc.total_cases[3],\n",
    "   data_tot_cases_anno_oc.total_cases[4]]\n",
    "print(x3,y3) "
   ]
  },
  {
   "cell_type": "code",
   "execution_count": 41,
   "id": "5ba01351-e662-4a86-909e-5003a139f742",
   "metadata": {
    "tags": []
   },
   "outputs": [
    {
     "name": "stdout",
     "output_type": "stream",
     "text": [
      "['2020', '2021', '2022', '2023', '2024'] [18890446.0, 51878860.0, 99019493.0, 103436829.0, 103436829.0]\n"
     ]
    }
   ],
   "source": [
    "x4=[\"2020\",\"2021\",\"2022\",\"2023\",\"2024\"]\n",
    "y4=[data_tot_cases_anno_na.total_cases[0],\n",
    "   data_tot_cases_anno_na.total_cases[1],\n",
    "   data_tot_cases_anno_na.total_cases[2],\n",
    "   data_tot_cases_anno_na.total_cases[3],\n",
    "   data_tot_cases_anno_na.total_cases[4]]\n",
    "print(x4,y4) "
   ]
  },
  {
   "cell_type": "code",
   "execution_count": 42,
   "id": "9d2738ea-e7a1-4c21-9279-d709fd13ff6f",
   "metadata": {
    "tags": []
   },
   "outputs": [
    {
     "name": "stdout",
     "output_type": "stream",
     "text": [
      "['2020', '2021', '2022', '2023', '2024'] [7448560.0, 22230737.0, 36124337.0, 37519960.0, 37519960.0]\n"
     ]
    }
   ],
   "source": [
    "x5=[\"2020\",\"2021\",\"2022\",\"2023\",\"2024\"]\n",
    "y5=[data_tot_cases_anno_sa.total_cases[0],\n",
    "   data_tot_cases_anno_sa.total_cases[1],\n",
    "   data_tot_cases_anno_sa.total_cases[2],\n",
    "   data_tot_cases_anno_sa.total_cases[3],\n",
    "   data_tot_cases_anno_sa.total_cases[4]]\n",
    "print(x5,y5) "
   ]
  },
  {
   "cell_type": "code",
   "execution_count": 43,
   "id": "0215e7d5-e01d-45a6-b1a6-e905285f015a",
   "metadata": {
    "tags": []
   },
   "outputs": [
    {
     "data": {
      "image/png": "[encoded data removed]",
      "text/plain": [
       "<Figure size 640x480 with 1 Axes>"
      ]
     },
     "metadata": {},
     "output_type": "display_data"
    }
   ],
   "source": [
    "plt.plot(x,y,marker=\"o\")\n",
    "plt.plot(x1,y1,marker=\"o\")\n",
    "plt.plot(x2,y2,marker=\"o\")\n",
    "plt.plot(x3,y3,marker=\"o\")\n",
    "plt.plot(x4,y4,marker=\"o\")\n",
    "plt.plot(x5,y5,marker=\"o\")\n",
    "plt.title(\"(Grafico 1)  Casi Totali COVID-19 dal 2020 al 2024 divisi per continente\")\n",
    "plt.xlabel(\"anno\")\n",
    "plt.ylabel(\"casi totali in milioni\")\n",
    "plt.legend([\"Europe\",\"Asia\",\"Africa\",\"Oceania\",\"North America\",\"South America\"])\n",
    "plt.grid('True')\n",
    "\n",
    "plt.show()"
   ]
  },
  {
   "cell_type": "code",
   "execution_count": 44,
   "id": "400479aa-abad-4916-a143-52547bdee0c3",
   "metadata": {
    "tags": []
   },
   "outputs": [
    {
     "name": "stdout",
     "output_type": "stream",
     "text": [
      "+---------------+----------+------------------+----------------------+--------------------+\n",
      "|   Continent   | vacc_min |     vacc_max     |      vacc_mean       |  %_on_world_vacc   |\n",
      "+---------------+----------+------------------+----------------------+--------------------+\n",
      "|     Africa    |   0.0    |  133,048,021.0   |  8,012,152.22106591  | 0.7145765203348725 |\n",
      "|      Asia     |   0.0    | 3,491,077,000.0  | 230,728,539.32374448 | 18.749934317934017 |\n",
      "|     Europe    |   0.0    |  192,221,468.0   | 27,275,774.196870532 | 1.0323862520067175 |\n",
      "| North America |   0.0    |  676,728,782.0   | 64,720,903.87429155  | 3.634586178865573  |\n",
      "|    Oceania    |   0.0    |   69,306,345.0   | 12,617,372.973786408 |  0.37223166849831  |\n",
      "| South America |   0.0    |  486,436,436.0   | 65,958,353.543699816 | 2.6125608873278687 |\n",
      "| non pervenuto |   0.0    | 13,570,324,505.0 | 2,532,524,541.491534 | 72.88372417503264  |\n",
      "+---------------+----------+------------------+----------------------+--------------------+\n"
     ]
    },
    {
     "data": {
      "text/plain": [
       "<matplotlib.legend.Legend at 0x22d4d556410>"
      ]
     },
     "execution_count": 44,
     "metadata": {},
     "output_type": "execute_result"
    },
    {
     "data": {
      "image/png": "[encoded data removed]",
      "text/plain": [
       "<Figure size 640x480 with 1 Axes>"
      ]
     },
     "metadata": {},
     "output_type": "display_data"
    }
   ],
   "source": [
    "x = [tot_vacc_Africa,\n",
    "tot_vacc_Asia,\n",
    "tot_vacc_Europe,\n",
    "tot_vacc_Nord_America,\n",
    "tot_vacc_Oceania,\n",
    "tot_vacc_Sud_America,\n",
    "nan_tot_vaccinations]\n",
    "\n",
    "print(tab3)\n",
    "\n",
    " \n",
    "colori = ['orange', 'g', 'r', 'c', 'y', 'purple', 'burlywood',\"salmon\"] \n",
    "explode= [0.2,0,0,0,0.2,0,0]\n",
    "plt.pie(x, colors=colori,wedgeprops={'edgecolor':'#000000'}, startangle=90,explode=explode)\n",
    "plt.title(\"(Grafico2)    Percentuale di vaccinazioni per continente sul totale mondiale\")\n",
    "plt.legend([\"Africa\",\"Asia\",\"Europe\",\"North America\",\"Oceania\",\"South America\",\"unknown\"])\n"
   ]
  },
  {
   "cell_type": "markdown",
   "id": "5699d243-4a07-486e-98d6-e54c6b79b3a5",
   "metadata": {},
   "source": [
    "Nota Bene: le percentuali corrispondono a quelle della tabella di riferimento (vaccinazioni totali), non ho trovato il modo di posizionare le percentuali in modo diverso dall'autopct di matplotlib e, siccome si sovrapponevano diventando illeggibili,ho preferito non inserirle."
   ]
  },
  {
   "cell_type": "markdown",
   "id": "0da1f123-7e26-4ac8-a85a-2a0a6d93174f",
   "metadata": {},
   "source": [
    "Ho anche provato a inserirle nella legenda, ma non mi è stato possibile, quindi ho deciso di stampare la suddetta tabella a supporto del grafico."
   ]
  },
  {
   "cell_type": "code",
   "execution_count": 45,
   "id": "6faee5cc-a629-4763-bb4d-1ed9bc39d0a8",
   "metadata": {},
   "outputs": [
    {
     "data": {
      "text/plain": [
       "[133048021.0,\n",
       " 3491077000.0,\n",
       " 192221468.0,\n",
       " 676728782.0,\n",
       " 69306345.0,\n",
       " 486436436.0,\n",
       " 13570324505.0]"
      ]
     },
     "execution_count": 45,
     "metadata": {},
     "output_type": "execute_result"
    }
   ],
   "source": [
    "lista_vacc_grafico=[]\n",
    "for vacc in x:\n",
    "    lista_vacc_grafico.append(vacc)\n",
    "lista_vacc_grafico  "
   ]
  },
  {
   "cell_type": "code",
   "execution_count": 46,
   "id": "3123ef1a-caff-4ec2-8cc8-26b0f4a553ed",
   "metadata": {
    "tags": []
   },
   "outputs": [
    {
     "data": {
      "text/html": [
       "<div>\n",
       "<style scoped>\n",
       "    .dataframe tbody tr th:only-of-type {\n",
       "        vertical-align: middle;\n",
       "    }\n",
       "\n",
       "    .dataframe tbody tr th {\n",
       "        vertical-align: top;\n",
       "    }\n",
       "\n",
       "    .dataframe thead th {\n",
       "        text-align: right;\n",
       "    }\n",
       "</style>\n",
       "<table border=\"1\" class=\"dataframe\">\n",
       "  <thead>\n",
       "    <tr style=\"text-align: right;\">\n",
       "      <th></th>\n",
       "      <th>year</th>\n",
       "      <th>total_vaccinations</th>\n",
       "    </tr>\n",
       "  </thead>\n",
       "  <tbody>\n",
       "    <tr>\n",
       "      <th>0</th>\n",
       "      <td>2020</td>\n",
       "      <td>206927.0</td>\n",
       "    </tr>\n",
       "    <tr>\n",
       "      <th>1</th>\n",
       "      <td>2021</td>\n",
       "      <td>153966358.0</td>\n",
       "    </tr>\n",
       "    <tr>\n",
       "      <th>2</th>\n",
       "      <td>2022</td>\n",
       "      <td>191587054.0</td>\n",
       "    </tr>\n",
       "    <tr>\n",
       "      <th>3</th>\n",
       "      <td>2023</td>\n",
       "      <td>192221468.0</td>\n",
       "    </tr>\n",
       "    <tr>\n",
       "      <th>4</th>\n",
       "      <td>2024</td>\n",
       "      <td>31469387.0</td>\n",
       "    </tr>\n",
       "  </tbody>\n",
       "</table>\n",
       "</div>"
      ],
      "text/plain": [
       "   year  total_vaccinations\n",
       "0  2020            206927.0\n",
       "1  2021         153966358.0\n",
       "2  2022         191587054.0\n",
       "3  2023         192221468.0\n",
       "4  2024          31469387.0"
      ]
     },
     "execution_count": 46,
     "metadata": {},
     "output_type": "execute_result"
    }
   ],
   "source": [
    "data_tot_vacc_anno_eu=pd.DataFrame(covid_eu.groupby(\"year\")[\"total_vaccinations\"].max())\n",
    "data_tot_vacc_anno_eu=data_tot_vacc_anno_eu.reset_index()\n",
    "\n",
    "data_tot_vacc_anno_eu\n"
   ]
  },
  {
   "cell_type": "code",
   "execution_count": 47,
   "id": "e7c7733c-8db2-414d-97ff-f709b9123c88",
   "metadata": {
    "tags": []
   },
   "outputs": [],
   "source": [
    "data_tot_vacc_anno_as=pd.DataFrame(covid_as.groupby(\"year\")[\"total_vaccinations\"].max())\n",
    "data_tot_vacc_anno_as=data_tot_vacc_anno_as.reset_index()\n",
    "data_tot_vacc_anno_af=pd.DataFrame(covid_af.groupby(\"year\")[\"total_vaccinations\"].max())\n",
    "data_tot_vacc_anno_af=data_tot_vacc_anno_af.reset_index()\n",
    "data_tot_vacc_anno_oc=pd.DataFrame(covid_oc.groupby(\"year\")[\"total_vaccinations\"].max())\n",
    "data_tot_vacc_anno_oc=data_tot_vacc_anno_oc.reset_index()\n",
    "data_tot_vacc_anno_na=pd.DataFrame(covid_na.groupby(\"year\")[\"total_vaccinations\"].max())\n",
    "data_tot_vacc_anno_na=data_tot_vacc_anno_na.reset_index()\n",
    "data_tot_vacc_anno_sa=pd.DataFrame(covid_sa.groupby(\"year\")[\"total_vaccinations\"].max())\n",
    "data_tot_vacc_anno_sa=data_tot_vacc_anno_sa.reset_index()"
   ]
  },
  {
   "cell_type": "code",
   "execution_count": 48,
   "id": "38cdf0fb-7efe-4f71-a5e2-452e525f8b1e",
   "metadata": {
    "tags": []
   },
   "outputs": [],
   "source": [
    "tab4=PrettyTable()\n",
    "tab4.field_names=(\"                    \",\"Africa\",\"Asia\",\"Europe\",\"Oceania\",\"N. America\",\"S. America\")\n",
    "tab4.add_row([\"total cases\",hz.intcomma(total_cases_Africa),hz.intcomma(total_cases_Asia),hz.intcomma(total_cases_Europe),hz.intcomma(total_cases_Oceania),hz.intcomma(total_cases_North_America),hz.intcomma(total_cases_South_America)])\n",
    "tab4.add_row([\"total vaccinations\",hz.intcomma(tot_vacc_Africa),hz.intcomma(tot_vacc_Asia),hz.intcomma(tot_vacc_Europe),hz.intcomma(tot_vacc_Oceania),hz.intcomma(tot_vacc_Nord_America),hz.intcomma(tot_vacc_Sud_America)])"
   ]
  },
  {
   "cell_type": "code",
   "execution_count": 49,
   "id": "e6d02392-1a20-4541-8abb-4bc6b25bd494",
   "metadata": {
    "tags": []
   },
   "outputs": [
    {
     "name": "stdout",
     "output_type": "stream",
     "text": [
      "+----------------------+---------------+-----------------+---------------+--------------+---------------+---------------+\n",
      "|                      |     Africa    |       Asia      |     Europe    |   Oceania    |   N. America  |   S. America  |\n",
      "+----------------------+---------------+-----------------+---------------+--------------+---------------+---------------+\n",
      "|     total cases      |  13,135,226.0 |  301,359,341.0  | 252,013,370.0 | 14,741,706.0 | 124,525,971.0 |  68,751,186.0 |\n",
      "|  total vaccinations  | 133,048,021.0 | 3,491,077,000.0 | 192,221,468.0 | 69,306,345.0 | 676,728,782.0 | 486,436,436.0 |\n",
      "+----------------------+---------------+-----------------+---------------+--------------+---------------+---------------+\n"
     ]
    },
    {
     "data": {
      "image/png": "[encoded data removed]",
      "text/plain": [
       "<Figure size 640x480 with 1 Axes>"
      ]
     },
     "metadata": {},
     "output_type": "display_data"
    }
   ],
   "source": [
    "from matplotlib import pyplot as plt\n",
    "import numpy as np\n",
    "plt.style.use(\"ggplot\")\n",
    "index=np.arange(6)\n",
    "width=0.3\n",
    "\n",
    "x9=[\"Africa\",\"Asia\",\"Europe\",\"Oceania\",\"N. America\",\"S. America\"]\n",
    "y_vacc=[tot_vacc_Africa,tot_vacc_Asia,tot_vacc_Europe,tot_vacc_Oceania,tot_vacc_Nord_America,tot_vacc_Sud_America]\n",
    "y_tot= [total_cases_Africa,total_cases_Asia,total_cases_Europe,total_cases_Oceania,total_cases_North_America,total_cases_South_America]\n",
    "plt.bar(index+width,y_vacc,label=\"vaccination\",width=width,color=\"blue\")\n",
    "plt.bar(index,y_tot,label=\"cases\", width=width,color=\"salmon\")\n",
    "\n",
    "\n",
    "plt.title(\"(Grafico3)       Casi totali a confronto con le vaccinazioni totali divisi per continente\")\n",
    "\n",
    "plt.ylabel(\"quantità in miliardi\")\n",
    "plt.xticks(index+width/2,x9)\n",
    "print(tab4)\n",
    "plt.show()    "
   ]
  },
  {
   "cell_type": "markdown",
   "id": "b657c875-d254-4b83-b6f1-ebf168eb5caf",
   "metadata": {},
   "source": [
    "Prendendo in considerazione i continenti Europa,Oceania e Sud America dall'analisi svolta finora si possono trarre le seguenti conclusioni:\n",
    "Il maggior numero di casi fra questi tre continenti è stato registrato in Europa, il minimo in Oceania.\n",
    "Nel periodo 2020-2021 si è verificata un forte aumento di infezioni analogo in Europa e Sud America, mentre ce ne sono state relativamente poche in Oceania.\n",
    "Nel periodo 2021-2022 l'aumento di infezioni in Europa  è stato ancora più elevato (segmento sul grafico con angolazione qausi esponenziale), mentre si è rivelato un'aumento gradualmente costante in Sud America e un aumento decisamente elevato rispetto al periodo precedente in Oceania.\n",
    "Dal 2022 la crescita di infezioni è minima e costante in tuttu e tre i continenti(Grafico 1)\n",
    "Per quanto riguarda le vaccinazioni , salta immediatamente all'occhio che, tra questi 3 continenti, la percentuale maggiore di vaccinazioni  rispetto alle vaccinazioni totali mondiali  è stata somministrata in Sud America  (grafico 2). \n",
    "In Oceania il numero di vaccinazioni somministrate è inferiore  a quello dell'Europa, ma dal grafico n.3 risulta evidente che l'Europa è l'unico continente nel mondo in cui i casi totali accertati superano il numero di vaccinazioni effettuate."
   ]
  },
  {
   "cell_type": "markdown",
   "id": "e6b7bd35-81be-4e63-98e5-a21ccf94ec87",
   "metadata": {},
   "source": [
    "FINE"
   ]
  },
  {
   "cell_type": "markdown",
   "id": "fd19c4ef-51f0-4a2e-90ae-8369493606ee",
   "metadata": {},
   "source": [
    "P.S. Per il Teacher Assistant:\n",
    "    Sono consapevole che avrei dovuto anche sviluppare un mini programma per la correzione dell'input dei continenti da parte dello user, ma non ho più avuto tempo, sorry!"
   ]
  },
  {
   "cell_type": "code",
   "execution_count": null,
   "id": "dda788a7-dc01-40b3-990e-2f33f104a2bf",
   "metadata": {},
   "outputs": [],
   "source": []
  }
 ],
 "metadata": {
  "kernelspec": {
   "display_name": "Python 3 (ipykernel)",
   "language": "python",
   "name": "python3"
  },
  "language_info": {
   "codemirror_mode": {
    "name": "ipython",
    "version": 3
   },
   "file_extension": ".py",
   "mimetype": "text/x-python",
   "name": "python",
   "nbconvert_exporter": "python",
   "pygments_lexer": "ipython3",
   "version": "3.11.5"
  }
 },
 "nbformat": 4,
 "nbformat_minor": 5
}
